{
 "cells": [
  {
   "cell_type": "markdown",
   "metadata": {},
   "source": [
    "# Trending YouTube Video 探索性分析与预处理报告"
   ]
  },
  {
   "cell_type": "code",
   "execution_count": 1,
   "metadata": {},
   "outputs": [],
   "source": [
    "%matplotlib inline\n",
    "import pandas as pd\n",
    "import json\n",
    "import numpy as np\n",
    "from matplotlib import pyplot as plt"
   ]
  },
  {
   "cell_type": "code",
   "execution_count": 2,
   "metadata": {},
   "outputs": [],
   "source": [
    "import json\n",
    "def get_category_list(path,filename):\n",
    "    with open(path + '/' + filename ,'r') as f:\n",
    "        d = json.load(f)\n",
    "    res = {}\n",
    "    for i in d['items']:\n",
    "        res[i['id']] = i['snippet']['title']\n",
    "    return res"
   ]
  },
  {
   "cell_type": "code",
   "execution_count": 3,
   "metadata": {},
   "outputs": [],
   "source": [
    "def load_data(path,filename):\n",
    "    return pd.read_csv(path + '/' + filename)"
   ]
  },
  {
   "cell_type": "markdown",
   "metadata": {},
   "source": [
    "确定数据集根目录："
   ]
  },
  {
   "cell_type": "code",
   "execution_count": 4,
   "metadata": {},
   "outputs": [],
   "source": [
    "root = 'data/youtube-new/'"
   ]
  },
  {
   "cell_type": "markdown",
   "metadata": {},
   "source": [
    "## 1. 美国\n",
    "导入数据："
   ]
  },
  {
   "cell_type": "code",
   "execution_count": 5,
   "metadata": {
    "scrolled": true
   },
   "outputs": [
    {
     "data": {
      "text/html": [
       "<div>\n",
       "<style scoped>\n",
       "    .dataframe tbody tr th:only-of-type {\n",
       "        vertical-align: middle;\n",
       "    }\n",
       "\n",
       "    .dataframe tbody tr th {\n",
       "        vertical-align: top;\n",
       "    }\n",
       "\n",
       "    .dataframe thead th {\n",
       "        text-align: right;\n",
       "    }\n",
       "</style>\n",
       "<table border=\"1\" class=\"dataframe\">\n",
       "  <thead>\n",
       "    <tr style=\"text-align: right;\">\n",
       "      <th></th>\n",
       "      <th>video_id</th>\n",
       "      <th>trending_date</th>\n",
       "      <th>title</th>\n",
       "      <th>channel_title</th>\n",
       "      <th>category_id</th>\n",
       "      <th>publish_time</th>\n",
       "      <th>tags</th>\n",
       "      <th>views</th>\n",
       "      <th>likes</th>\n",
       "      <th>dislikes</th>\n",
       "      <th>comment_count</th>\n",
       "      <th>thumbnail_link</th>\n",
       "      <th>comments_disabled</th>\n",
       "      <th>ratings_disabled</th>\n",
       "      <th>video_error_or_removed</th>\n",
       "      <th>description</th>\n",
       "    </tr>\n",
       "  </thead>\n",
       "  <tbody>\n",
       "    <tr>\n",
       "      <th>0</th>\n",
       "      <td>2kyS6SvSYSE</td>\n",
       "      <td>17.14.11</td>\n",
       "      <td>WE WANT TO TALK ABOUT OUR MARRIAGE</td>\n",
       "      <td>CaseyNeistat</td>\n",
       "      <td>22</td>\n",
       "      <td>2017-11-13T17:13:01.000Z</td>\n",
       "      <td>SHANtell martin</td>\n",
       "      <td>748374</td>\n",
       "      <td>57527</td>\n",
       "      <td>2966</td>\n",
       "      <td>15954</td>\n",
       "      <td>https://i.ytimg.com/vi/2kyS6SvSYSE/default.jpg</td>\n",
       "      <td>False</td>\n",
       "      <td>False</td>\n",
       "      <td>False</td>\n",
       "      <td>SHANTELL'S CHANNEL - https://www.youtube.com/s...</td>\n",
       "    </tr>\n",
       "    <tr>\n",
       "      <th>1</th>\n",
       "      <td>1ZAPwfrtAFY</td>\n",
       "      <td>17.14.11</td>\n",
       "      <td>The Trump Presidency: Last Week Tonight with J...</td>\n",
       "      <td>LastWeekTonight</td>\n",
       "      <td>24</td>\n",
       "      <td>2017-11-13T07:30:00.000Z</td>\n",
       "      <td>last week tonight trump presidency|\"last week ...</td>\n",
       "      <td>2418783</td>\n",
       "      <td>97185</td>\n",
       "      <td>6146</td>\n",
       "      <td>12703</td>\n",
       "      <td>https://i.ytimg.com/vi/1ZAPwfrtAFY/default.jpg</td>\n",
       "      <td>False</td>\n",
       "      <td>False</td>\n",
       "      <td>False</td>\n",
       "      <td>One year after the presidential election, John...</td>\n",
       "    </tr>\n",
       "    <tr>\n",
       "      <th>2</th>\n",
       "      <td>5qpjK5DgCt4</td>\n",
       "      <td>17.14.11</td>\n",
       "      <td>Racist Superman | Rudy Mancuso, King Bach &amp; Le...</td>\n",
       "      <td>Rudy Mancuso</td>\n",
       "      <td>23</td>\n",
       "      <td>2017-11-12T19:05:24.000Z</td>\n",
       "      <td>racist superman|\"rudy\"|\"mancuso\"|\"king\"|\"bach\"...</td>\n",
       "      <td>3191434</td>\n",
       "      <td>146033</td>\n",
       "      <td>5339</td>\n",
       "      <td>8181</td>\n",
       "      <td>https://i.ytimg.com/vi/5qpjK5DgCt4/default.jpg</td>\n",
       "      <td>False</td>\n",
       "      <td>False</td>\n",
       "      <td>False</td>\n",
       "      <td>WATCH MY PREVIOUS VIDEO ▶ \\n\\nSUBSCRIBE ► http...</td>\n",
       "    </tr>\n",
       "    <tr>\n",
       "      <th>3</th>\n",
       "      <td>puqaWrEC7tY</td>\n",
       "      <td>17.14.11</td>\n",
       "      <td>Nickelback Lyrics: Real or Fake?</td>\n",
       "      <td>Good Mythical Morning</td>\n",
       "      <td>24</td>\n",
       "      <td>2017-11-13T11:00:04.000Z</td>\n",
       "      <td>rhett and link|\"gmm\"|\"good mythical morning\"|\"...</td>\n",
       "      <td>343168</td>\n",
       "      <td>10172</td>\n",
       "      <td>666</td>\n",
       "      <td>2146</td>\n",
       "      <td>https://i.ytimg.com/vi/puqaWrEC7tY/default.jpg</td>\n",
       "      <td>False</td>\n",
       "      <td>False</td>\n",
       "      <td>False</td>\n",
       "      <td>Today we find out if Link is a Nickelback amat...</td>\n",
       "    </tr>\n",
       "    <tr>\n",
       "      <th>4</th>\n",
       "      <td>d380meD0W0M</td>\n",
       "      <td>17.14.11</td>\n",
       "      <td>I Dare You: GOING BALD!?</td>\n",
       "      <td>nigahiga</td>\n",
       "      <td>24</td>\n",
       "      <td>2017-11-12T18:01:41.000Z</td>\n",
       "      <td>ryan|\"higa\"|\"higatv\"|\"nigahiga\"|\"i dare you\"|\"...</td>\n",
       "      <td>2095731</td>\n",
       "      <td>132235</td>\n",
       "      <td>1989</td>\n",
       "      <td>17518</td>\n",
       "      <td>https://i.ytimg.com/vi/d380meD0W0M/default.jpg</td>\n",
       "      <td>False</td>\n",
       "      <td>False</td>\n",
       "      <td>False</td>\n",
       "      <td>I know it's been a while since we did this sho...</td>\n",
       "    </tr>\n",
       "    <tr>\n",
       "      <th>...</th>\n",
       "      <td>...</td>\n",
       "      <td>...</td>\n",
       "      <td>...</td>\n",
       "      <td>...</td>\n",
       "      <td>...</td>\n",
       "      <td>...</td>\n",
       "      <td>...</td>\n",
       "      <td>...</td>\n",
       "      <td>...</td>\n",
       "      <td>...</td>\n",
       "      <td>...</td>\n",
       "      <td>...</td>\n",
       "      <td>...</td>\n",
       "      <td>...</td>\n",
       "      <td>...</td>\n",
       "      <td>...</td>\n",
       "    </tr>\n",
       "    <tr>\n",
       "      <th>40944</th>\n",
       "      <td>BZt0qjTWNhw</td>\n",
       "      <td>18.14.06</td>\n",
       "      <td>The Cat Who Caught the Laser</td>\n",
       "      <td>AaronsAnimals</td>\n",
       "      <td>15</td>\n",
       "      <td>2018-05-18T13:00:04.000Z</td>\n",
       "      <td>aarons animals|\"aarons\"|\"animals\"|\"cat\"|\"cats\"...</td>\n",
       "      <td>1685609</td>\n",
       "      <td>38160</td>\n",
       "      <td>1385</td>\n",
       "      <td>2657</td>\n",
       "      <td>https://i.ytimg.com/vi/BZt0qjTWNhw/default.jpg</td>\n",
       "      <td>False</td>\n",
       "      <td>False</td>\n",
       "      <td>False</td>\n",
       "      <td>The Cat Who Caught the Laser - Aaron's Animals</td>\n",
       "    </tr>\n",
       "    <tr>\n",
       "      <th>40945</th>\n",
       "      <td>1h7KV2sjUWY</td>\n",
       "      <td>18.14.06</td>\n",
       "      <td>True Facts : Ant Mutualism</td>\n",
       "      <td>zefrank1</td>\n",
       "      <td>22</td>\n",
       "      <td>2018-05-18T01:00:06.000Z</td>\n",
       "      <td>[none]</td>\n",
       "      <td>1064798</td>\n",
       "      <td>60008</td>\n",
       "      <td>382</td>\n",
       "      <td>3936</td>\n",
       "      <td>https://i.ytimg.com/vi/1h7KV2sjUWY/default.jpg</td>\n",
       "      <td>False</td>\n",
       "      <td>False</td>\n",
       "      <td>False</td>\n",
       "      <td>NaN</td>\n",
       "    </tr>\n",
       "    <tr>\n",
       "      <th>40946</th>\n",
       "      <td>D6Oy4LfoqsU</td>\n",
       "      <td>18.14.06</td>\n",
       "      <td>I GAVE SAFIYA NYGAARD A PERFECT HAIR MAKEOVER ...</td>\n",
       "      <td>Brad Mondo</td>\n",
       "      <td>24</td>\n",
       "      <td>2018-05-18T17:34:22.000Z</td>\n",
       "      <td>I gave safiya nygaard a perfect hair makeover ...</td>\n",
       "      <td>1066451</td>\n",
       "      <td>48068</td>\n",
       "      <td>1032</td>\n",
       "      <td>3992</td>\n",
       "      <td>https://i.ytimg.com/vi/D6Oy4LfoqsU/default.jpg</td>\n",
       "      <td>False</td>\n",
       "      <td>False</td>\n",
       "      <td>False</td>\n",
       "      <td>I had so much fun transforming Safiyas hair in...</td>\n",
       "    </tr>\n",
       "    <tr>\n",
       "      <th>40947</th>\n",
       "      <td>oV0zkMe1K8s</td>\n",
       "      <td>18.14.06</td>\n",
       "      <td>How Black Panther Should Have Ended</td>\n",
       "      <td>How It Should Have Ended</td>\n",
       "      <td>1</td>\n",
       "      <td>2018-05-17T17:00:04.000Z</td>\n",
       "      <td>Black Panther|\"HISHE\"|\"Marvel\"|\"Infinity War\"|...</td>\n",
       "      <td>5660813</td>\n",
       "      <td>192957</td>\n",
       "      <td>2846</td>\n",
       "      <td>13088</td>\n",
       "      <td>https://i.ytimg.com/vi/oV0zkMe1K8s/default.jpg</td>\n",
       "      <td>False</td>\n",
       "      <td>False</td>\n",
       "      <td>False</td>\n",
       "      <td>How Black Panther Should Have EndedWatch More ...</td>\n",
       "    </tr>\n",
       "    <tr>\n",
       "      <th>40948</th>\n",
       "      <td>ooyjaVdt-jA</td>\n",
       "      <td>18.14.06</td>\n",
       "      <td>Official Call of Duty®: Black Ops 4 — Multipla...</td>\n",
       "      <td>Call of Duty</td>\n",
       "      <td>20</td>\n",
       "      <td>2018-05-17T17:09:38.000Z</td>\n",
       "      <td>call of duty|\"cod\"|\"activision\"|\"Black Ops 4\"</td>\n",
       "      <td>10306119</td>\n",
       "      <td>357079</td>\n",
       "      <td>212976</td>\n",
       "      <td>144795</td>\n",
       "      <td>https://i.ytimg.com/vi/ooyjaVdt-jA/default.jpg</td>\n",
       "      <td>False</td>\n",
       "      <td>False</td>\n",
       "      <td>False</td>\n",
       "      <td>Call of Duty: Black Ops 4 Multiplayer raises t...</td>\n",
       "    </tr>\n",
       "  </tbody>\n",
       "</table>\n",
       "<p>40949 rows × 16 columns</p>\n",
       "</div>"
      ],
      "text/plain": [
       "          video_id trending_date  \\\n",
       "0      2kyS6SvSYSE      17.14.11   \n",
       "1      1ZAPwfrtAFY      17.14.11   \n",
       "2      5qpjK5DgCt4      17.14.11   \n",
       "3      puqaWrEC7tY      17.14.11   \n",
       "4      d380meD0W0M      17.14.11   \n",
       "...            ...           ...   \n",
       "40944  BZt0qjTWNhw      18.14.06   \n",
       "40945  1h7KV2sjUWY      18.14.06   \n",
       "40946  D6Oy4LfoqsU      18.14.06   \n",
       "40947  oV0zkMe1K8s      18.14.06   \n",
       "40948  ooyjaVdt-jA      18.14.06   \n",
       "\n",
       "                                                   title  \\\n",
       "0                     WE WANT TO TALK ABOUT OUR MARRIAGE   \n",
       "1      The Trump Presidency: Last Week Tonight with J...   \n",
       "2      Racist Superman | Rudy Mancuso, King Bach & Le...   \n",
       "3                       Nickelback Lyrics: Real or Fake?   \n",
       "4                               I Dare You: GOING BALD!?   \n",
       "...                                                  ...   \n",
       "40944                       The Cat Who Caught the Laser   \n",
       "40945                         True Facts : Ant Mutualism   \n",
       "40946  I GAVE SAFIYA NYGAARD A PERFECT HAIR MAKEOVER ...   \n",
       "40947                How Black Panther Should Have Ended   \n",
       "40948  Official Call of Duty®: Black Ops 4 — Multipla...   \n",
       "\n",
       "                  channel_title  category_id              publish_time  \\\n",
       "0                  CaseyNeistat           22  2017-11-13T17:13:01.000Z   \n",
       "1               LastWeekTonight           24  2017-11-13T07:30:00.000Z   \n",
       "2                  Rudy Mancuso           23  2017-11-12T19:05:24.000Z   \n",
       "3         Good Mythical Morning           24  2017-11-13T11:00:04.000Z   \n",
       "4                      nigahiga           24  2017-11-12T18:01:41.000Z   \n",
       "...                         ...          ...                       ...   \n",
       "40944             AaronsAnimals           15  2018-05-18T13:00:04.000Z   \n",
       "40945                  zefrank1           22  2018-05-18T01:00:06.000Z   \n",
       "40946                Brad Mondo           24  2018-05-18T17:34:22.000Z   \n",
       "40947  How It Should Have Ended            1  2018-05-17T17:00:04.000Z   \n",
       "40948              Call of Duty           20  2018-05-17T17:09:38.000Z   \n",
       "\n",
       "                                                    tags     views   likes  \\\n",
       "0                                        SHANtell martin    748374   57527   \n",
       "1      last week tonight trump presidency|\"last week ...   2418783   97185   \n",
       "2      racist superman|\"rudy\"|\"mancuso\"|\"king\"|\"bach\"...   3191434  146033   \n",
       "3      rhett and link|\"gmm\"|\"good mythical morning\"|\"...    343168   10172   \n",
       "4      ryan|\"higa\"|\"higatv\"|\"nigahiga\"|\"i dare you\"|\"...   2095731  132235   \n",
       "...                                                  ...       ...     ...   \n",
       "40944  aarons animals|\"aarons\"|\"animals\"|\"cat\"|\"cats\"...   1685609   38160   \n",
       "40945                                             [none]   1064798   60008   \n",
       "40946  I gave safiya nygaard a perfect hair makeover ...   1066451   48068   \n",
       "40947  Black Panther|\"HISHE\"|\"Marvel\"|\"Infinity War\"|...   5660813  192957   \n",
       "40948      call of duty|\"cod\"|\"activision\"|\"Black Ops 4\"  10306119  357079   \n",
       "\n",
       "       dislikes  comment_count  \\\n",
       "0          2966          15954   \n",
       "1          6146          12703   \n",
       "2          5339           8181   \n",
       "3           666           2146   \n",
       "4          1989          17518   \n",
       "...         ...            ...   \n",
       "40944      1385           2657   \n",
       "40945       382           3936   \n",
       "40946      1032           3992   \n",
       "40947      2846          13088   \n",
       "40948    212976         144795   \n",
       "\n",
       "                                       thumbnail_link  comments_disabled  \\\n",
       "0      https://i.ytimg.com/vi/2kyS6SvSYSE/default.jpg              False   \n",
       "1      https://i.ytimg.com/vi/1ZAPwfrtAFY/default.jpg              False   \n",
       "2      https://i.ytimg.com/vi/5qpjK5DgCt4/default.jpg              False   \n",
       "3      https://i.ytimg.com/vi/puqaWrEC7tY/default.jpg              False   \n",
       "4      https://i.ytimg.com/vi/d380meD0W0M/default.jpg              False   \n",
       "...                                               ...                ...   \n",
       "40944  https://i.ytimg.com/vi/BZt0qjTWNhw/default.jpg              False   \n",
       "40945  https://i.ytimg.com/vi/1h7KV2sjUWY/default.jpg              False   \n",
       "40946  https://i.ytimg.com/vi/D6Oy4LfoqsU/default.jpg              False   \n",
       "40947  https://i.ytimg.com/vi/oV0zkMe1K8s/default.jpg              False   \n",
       "40948  https://i.ytimg.com/vi/ooyjaVdt-jA/default.jpg              False   \n",
       "\n",
       "       ratings_disabled  video_error_or_removed  \\\n",
       "0                 False                   False   \n",
       "1                 False                   False   \n",
       "2                 False                   False   \n",
       "3                 False                   False   \n",
       "4                 False                   False   \n",
       "...                 ...                     ...   \n",
       "40944             False                   False   \n",
       "40945             False                   False   \n",
       "40946             False                   False   \n",
       "40947             False                   False   \n",
       "40948             False                   False   \n",
       "\n",
       "                                             description  \n",
       "0      SHANTELL'S CHANNEL - https://www.youtube.com/s...  \n",
       "1      One year after the presidential election, John...  \n",
       "2      WATCH MY PREVIOUS VIDEO ▶ \\n\\nSUBSCRIBE ► http...  \n",
       "3      Today we find out if Link is a Nickelback amat...  \n",
       "4      I know it's been a while since we did this sho...  \n",
       "...                                                  ...  \n",
       "40944     The Cat Who Caught the Laser - Aaron's Animals  \n",
       "40945                                                NaN  \n",
       "40946  I had so much fun transforming Safiyas hair in...  \n",
       "40947  How Black Panther Should Have EndedWatch More ...  \n",
       "40948  Call of Duty: Black Ops 4 Multiplayer raises t...  \n",
       "\n",
       "[40949 rows x 16 columns]"
      ]
     },
     "execution_count": 5,
     "metadata": {},
     "output_type": "execute_result"
    }
   ],
   "source": [
    "US_data = load_data(root, 'USvideos.csv')\n",
    "US_data"
   ]
  },
  {
   "cell_type": "markdown",
   "metadata": {},
   "source": [
    "### Trending date"
   ]
  },
  {
   "cell_type": "code",
   "execution_count": 6,
   "metadata": {
    "scrolled": false
   },
   "outputs": [
    {
     "data": {
      "text/plain": [
       "18.06.03    200\n",
       "18.09.02    200\n",
       "18.11.06    200\n",
       "17.09.12    200\n",
       "17.29.11    200\n",
       "           ... \n",
       "18.31.01    197\n",
       "18.01.02    197\n",
       "18.03.02    196\n",
       "18.02.02    196\n",
       "18.04.02    196\n",
       "Name: trending_date, Length: 205, dtype: int64"
      ]
     },
     "execution_count": 6,
     "metadata": {},
     "output_type": "execute_result"
    }
   ],
   "source": [
    "frequency_trending_date = US_data['trending_date'].value_counts()\n",
    "frequency_trending_date"
   ]
  },
  {
   "cell_type": "code",
   "execution_count": 7,
   "metadata": {
    "scrolled": true
   },
   "outputs": [
    {
     "data": {
      "image/png": "[encoded data removed]",
      "text/plain": [
       "<Figure size 2304x432 with 1 Axes>"
      ]
     },
     "metadata": {
      "needs_background": "light"
     },
     "output_type": "display_data"
    }
   ],
   "source": [
    "fig = plt.figure(figsize = (32, 6))\n",
    "plt.hist(np.array(US_data['trending_date']), bins = 1000, alpha = 0.7)\n",
    "plt.xlabel('trending video numbers per day')\n",
    "plt.ylabel('frequency')\n",
    "plt.show()"
   ]
  },
  {
   "cell_type": "code",
   "execution_count": 8,
   "metadata": {},
   "outputs": [
    {
     "data": {
      "image/png": "[encoded data removed]",
      "text/plain": [
       "<Figure size 288x432 with 1 Axes>"
      ]
     },
     "metadata": {
      "needs_background": "light"
     },
     "output_type": "display_data"
    }
   ],
   "source": [
    "fig = plt.figure(figsize=(4, 6))\n",
    "plt.boxplot(np.array(frequency_trending_date), notch=False, vert=True)\n",
    "plt.ylabel('trending video numbers')\n",
    "plt.show()"
   ]
  },
  {
   "cell_type": "code",
   "execution_count": 9,
   "metadata": {},
   "outputs": [
    {
     "data": {
      "image/png": "[encoded data removed]",
      "text/plain": [
       "<Figure size 288x216 with 1 Axes>"
      ]
     },
     "metadata": {
      "needs_background": "light"
     },
     "output_type": "display_data"
    }
   ],
   "source": [
    "fig = plt.figure(figsize = (4, 3))\n",
    "plt.hist(np.array(frequency_trending_date), bins = 40, alpha = 0.7)\n",
    "plt.xlabel('trending video numbers')\n",
    "plt.ylabel('frequency')\n",
    "plt.show()"
   ]
  },
  {
   "cell_type": "markdown",
   "metadata": {},
   "source": [
    "### Category"
   ]
  },
  {
   "cell_type": "code",
   "execution_count": 10,
   "metadata": {
    "scrolled": true
   },
   "outputs": [
    {
     "data": {
      "text/plain": [
       "{'1': 'Film & Animation',\n",
       " '2': 'Autos & Vehicles',\n",
       " '10': 'Music',\n",
       " '15': 'Pets & Animals',\n",
       " '17': 'Sports',\n",
       " '18': 'Short Movies',\n",
       " '19': 'Travel & Events',\n",
       " '20': 'Gaming',\n",
       " '21': 'Videoblogging',\n",
       " '22': 'People & Blogs',\n",
       " '23': 'Comedy',\n",
       " '24': 'Entertainment',\n",
       " '25': 'News & Politics',\n",
       " '26': 'Howto & Style',\n",
       " '27': 'Education',\n",
       " '28': 'Science & Technology',\n",
       " '29': 'Nonprofits & Activism',\n",
       " '30': 'Movies',\n",
       " '31': 'Anime/Animation',\n",
       " '32': 'Action/Adventure',\n",
       " '33': 'Classics',\n",
       " '34': 'Comedy',\n",
       " '35': 'Documentary',\n",
       " '36': 'Drama',\n",
       " '37': 'Family',\n",
       " '38': 'Foreign',\n",
       " '39': 'Horror',\n",
       " '40': 'Sci-Fi/Fantasy',\n",
       " '41': 'Thriller',\n",
       " '42': 'Shorts',\n",
       " '43': 'Shows',\n",
       " '44': 'Trailers'}"
      ]
     },
     "execution_count": 10,
     "metadata": {},
     "output_type": "execute_result"
    }
   ],
   "source": [
    "US_category_list = get_category_list(root, 'US_category_id.json')\n",
    "US_category_list"
   ]
  },
  {
   "cell_type": "code",
   "execution_count": 11,
   "metadata": {
    "scrolled": true
   },
   "outputs": [
    {
     "data": {
      "text/plain": [
       "['People & Blogs',\n",
       " 'Entertainment',\n",
       " 'Comedy',\n",
       " 'Entertainment',\n",
       " 'Entertainment',\n",
       " 'Science & Technology',\n",
       " 'Entertainment',\n",
       " 'Science & Technology',\n",
       " 'Film & Animation',\n",
       " 'News & Politics',\n",
       " 'Sports',\n",
       " 'Entertainment',\n",
       " 'Music',\n",
       " 'News & Politics',\n",
       " 'Pets & Animals',\n",
       " 'Science & Technology',\n",
       " 'Comedy',\n",
       " 'Education',\n",
       " 'Science & Technology',\n",
       " 'Education',\n",
       " 'Education',\n",
       " 'Science & Technology',\n",
       " 'Education',\n",
       " 'Howto & Style',\n",
       " 'Comedy',\n",
       " 'Entertainment',\n",
       " 'Science & Technology',\n",
       " 'Howto & Style',\n",
       " 'News & Politics',\n",
       " 'Film & Animation',\n",
       " 'Autos & Vehicles',\n",
       " 'Entertainment',\n",
       " 'Music',\n",
       " 'Entertainment',\n",
       " 'Travel & Events',\n",
       " 'People & Blogs',\n",
       " 'Film & Animation',\n",
       " 'Music',\n",
       " 'Comedy',\n",
       " 'Music',\n",
       " 'Music',\n",
       " 'News & Politics',\n",
       " 'Sports',\n",
       " 'Music',\n",
       " 'People & Blogs',\n",
       " 'Howto & Style',\n",
       " 'Entertainment',\n",
       " 'Sports',\n",
       " 'Sports',\n",
       " 'Entertainment',\n",
       " 'Entertainment',\n",
       " 'News & Politics',\n",
       " 'Sports',\n",
       " 'Music',\n",
       " 'People & Blogs',\n",
       " 'Entertainment',\n",
       " 'Sports',\n",
       " 'News & Politics',\n",
       " 'Autos & Vehicles',\n",
       " 'Entertainment',\n",
       " 'Science & Technology',\n",
       " 'News & Politics',\n",
       " 'Entertainment',\n",
       " 'Music',\n",
       " 'News & Politics',\n",
       " 'Entertainment',\n",
       " 'People & Blogs',\n",
       " 'Comedy',\n",
       " 'Entertainment',\n",
       " 'Howto & Style',\n",
       " 'Music',\n",
       " 'Film & Animation',\n",
       " 'Entertainment',\n",
       " 'Entertainment',\n",
       " 'Music',\n",
       " 'Entertainment',\n",
       " 'Science & Technology',\n",
       " 'Music',\n",
       " 'Entertainment',\n",
       " 'Comedy',\n",
       " 'Howto & Style',\n",
       " 'Howto & Style',\n",
       " 'Howto & Style',\n",
       " 'News & Politics',\n",
       " 'Howto & Style',\n",
       " 'People & Blogs',\n",
       " 'Film & Animation',\n",
       " 'Music',\n",
       " 'Music',\n",
       " 'Entertainment',\n",
       " 'Education',\n",
       " 'Entertainment',\n",
       " 'Pets & Animals',\n",
       " 'Howto & Style',\n",
       " 'Film & Animation',\n",
       " 'Music',\n",
       " 'Music',\n",
       " 'Pets & Animals',\n",
       " 'Comedy',\n",
       " 'Music',\n",
       " 'People & Blogs',\n",
       " 'Music',\n",
       " 'Comedy',\n",
       " 'Entertainment',\n",
       " 'Music',\n",
       " 'Comedy',\n",
       " 'Entertainment',\n",
       " 'Howto & Style',\n",
       " 'Film & Animation',\n",
       " 'Music',\n",
       " 'Music',\n",
       " 'Music',\n",
       " 'Music',\n",
       " 'Science & Technology',\n",
       " 'Music',\n",
       " 'Howto & Style',\n",
       " 'Music',\n",
       " 'Entertainment',\n",
       " 'Entertainment',\n",
       " 'People & Blogs',\n",
       " 'People & Blogs',\n",
       " 'Entertainment',\n",
       " 'Comedy',\n",
       " 'People & Blogs',\n",
       " 'Music',\n",
       " 'News & Politics',\n",
       " 'Music',\n",
       " 'Music',\n",
       " 'Pets & Animals',\n",
       " 'Music',\n",
       " 'Music',\n",
       " 'Gaming',\n",
       " 'Howto & Style',\n",
       " 'Entertainment',\n",
       " 'Music',\n",
       " 'Entertainment',\n",
       " 'Music',\n",
       " 'Music',\n",
       " 'People & Blogs',\n",
       " 'Entertainment',\n",
       " 'Music',\n",
       " 'Music',\n",
       " 'Music',\n",
       " 'Howto & Style',\n",
       " 'Entertainment',\n",
       " 'Entertainment',\n",
       " 'Entertainment',\n",
       " 'Music',\n",
       " 'Music',\n",
       " 'Music',\n",
       " 'Entertainment',\n",
       " 'Entertainment',\n",
       " 'Music',\n",
       " 'Entertainment',\n",
       " 'People & Blogs',\n",
       " 'Education',\n",
       " 'Comedy',\n",
       " 'Education',\n",
       " 'Entertainment',\n",
       " 'Howto & Style',\n",
       " 'Education',\n",
       " 'Entertainment',\n",
       " 'Music',\n",
       " 'Autos & Vehicles',\n",
       " 'Music',\n",
       " 'Music',\n",
       " 'Entertainment',\n",
       " 'Pets & Animals',\n",
       " 'Entertainment',\n",
       " 'Film & Animation',\n",
       " 'Music',\n",
       " 'Howto & Style',\n",
       " 'Entertainment',\n",
       " 'Sports',\n",
       " 'Education',\n",
       " 'Science & Technology',\n",
       " 'Science & Technology',\n",
       " 'Comedy',\n",
       " 'Entertainment',\n",
       " 'Howto & Style',\n",
       " 'People & Blogs',\n",
       " 'Entertainment',\n",
       " 'People & Blogs',\n",
       " 'Howto & Style',\n",
       " 'News & Politics',\n",
       " 'Entertainment',\n",
       " 'Comedy',\n",
       " 'News & Politics',\n",
       " 'Music',\n",
       " 'Howto & Style',\n",
       " 'Music',\n",
       " 'People & Blogs',\n",
       " 'People & Blogs',\n",
       " 'Sports',\n",
       " 'Sports',\n",
       " 'News & Politics',\n",
       " 'Entertainment',\n",
       " 'Autos & Vehicles',\n",
       " 'People & Blogs',\n",
       " 'Science & Technology',\n",
       " 'Comedy',\n",
       " 'Comedy',\n",
       " 'Entertainment',\n",
       " 'Science & Technology',\n",
       " 'Howto & Style',\n",
       " 'Science & Technology',\n",
       " 'Comedy',\n",
       " 'Comedy',\n",
       " 'Comedy',\n",
       " 'Science & Technology',\n",
       " 'Film & Animation',\n",
       " 'Entertainment',\n",
       " 'News & Politics',\n",
       " 'Comedy',\n",
       " 'Howto & Style',\n",
       " 'Entertainment',\n",
       " 'Music',\n",
       " 'People & Blogs',\n",
       " 'Film & Animation',\n",
       " 'Entertainment',\n",
       " 'Sports',\n",
       " 'Entertainment',\n",
       " 'Music',\n",
       " 'Science & Technology',\n",
       " 'Howto & Style',\n",
       " 'Film & Animation',\n",
       " 'Entertainment',\n",
       " 'Science & Technology',\n",
       " 'Entertainment',\n",
       " 'Education',\n",
       " 'Comedy',\n",
       " 'Entertainment',\n",
       " 'Education',\n",
       " 'Entertainment',\n",
       " 'Music',\n",
       " 'Education',\n",
       " 'Entertainment',\n",
       " 'Education',\n",
       " 'Comedy',\n",
       " 'Entertainment',\n",
       " 'Education',\n",
       " 'Entertainment',\n",
       " 'News & Politics',\n",
       " 'Comedy',\n",
       " 'Sports',\n",
       " 'Music',\n",
       " 'Entertainment',\n",
       " 'Entertainment',\n",
       " 'Howto & Style',\n",
       " 'News & Politics',\n",
       " 'Sports',\n",
       " 'Entertainment',\n",
       " 'Music',\n",
       " 'Sports',\n",
       " 'Entertainment',\n",
       " 'Science & Technology',\n",
       " 'Sports',\n",
       " 'Sports',\n",
       " 'Music',\n",
       " 'News & Politics',\n",
       " 'Comedy',\n",
       " 'Entertainment',\n",
       " 'Education',\n",
       " 'Science & Technology',\n",
       " 'Entertainment',\n",
       " 'Autos & Vehicles',\n",
       " 'Entertainment',\n",
       " 'Sports',\n",
       " 'News & Politics',\n",
       " 'Music',\n",
       " 'Pets & Animals',\n",
       " 'News & Politics',\n",
       " 'Entertainment',\n",
       " 'Autos & Vehicles',\n",
       " 'Howto & Style',\n",
       " 'Sports',\n",
       " 'Comedy',\n",
       " 'Science & Technology',\n",
       " 'Music',\n",
       " 'Education',\n",
       " 'Science & Technology',\n",
       " 'Howto & Style',\n",
       " 'Comedy',\n",
       " 'Howto & Style',\n",
       " 'Sports',\n",
       " 'Music',\n",
       " 'Film & Animation',\n",
       " 'News & Politics',\n",
       " 'Entertainment',\n",
       " 'Travel & Events',\n",
       " 'Entertainment',\n",
       " 'Travel & Events',\n",
       " 'Entertainment',\n",
       " 'Film & Animation',\n",
       " 'Entertainment',\n",
       " 'Sports',\n",
       " 'People & Blogs',\n",
       " 'Entertainment',\n",
       " 'Music',\n",
       " 'News & Politics',\n",
       " 'Sports',\n",
       " 'Comedy',\n",
       " 'Autos & Vehicles',\n",
       " 'People & Blogs',\n",
       " 'Film & Animation',\n",
       " 'Music',\n",
       " 'Howto & Style',\n",
       " 'News & Politics',\n",
       " 'Entertainment',\n",
       " 'People & Blogs',\n",
       " 'Music',\n",
       " 'Entertainment',\n",
       " 'Sports',\n",
       " 'Entertainment',\n",
       " 'Entertainment',\n",
       " 'Sports',\n",
       " 'News & Politics',\n",
       " 'Music',\n",
       " 'People & Blogs',\n",
       " 'People & Blogs',\n",
       " 'Sports',\n",
       " 'Entertainment',\n",
       " 'Entertainment',\n",
       " 'Music',\n",
       " 'Science & Technology',\n",
       " 'People & Blogs',\n",
       " 'Entertainment',\n",
       " 'Comedy',\n",
       " 'News & Politics',\n",
       " 'Howto & Style',\n",
       " 'Music',\n",
       " 'Music',\n",
       " 'Music',\n",
       " 'Comedy',\n",
       " 'Entertainment',\n",
       " 'Howto & Style',\n",
       " 'Music',\n",
       " 'Science & Technology',\n",
       " 'Music',\n",
       " 'Howto & Style',\n",
       " 'People & Blogs',\n",
       " 'People & Blogs',\n",
       " 'Entertainment',\n",
       " 'Science & Technology',\n",
       " 'Entertainment',\n",
       " 'Film & Animation',\n",
       " 'Education',\n",
       " 'Music',\n",
       " 'Entertainment',\n",
       " 'Music',\n",
       " 'Entertainment',\n",
       " 'Music',\n",
       " 'Pets & Animals',\n",
       " 'Pets & Animals',\n",
       " 'Film & Animation',\n",
       " 'Entertainment',\n",
       " 'Howto & Style',\n",
       " 'Howto & Style',\n",
       " 'Film & Animation',\n",
       " 'Howto & Style',\n",
       " 'Comedy',\n",
       " 'Music',\n",
       " 'Music',\n",
       " 'Music',\n",
       " 'Howto & Style',\n",
       " 'Comedy',\n",
       " 'People & Blogs',\n",
       " 'Music',\n",
       " 'Music',\n",
       " 'Film & Animation',\n",
       " 'Music',\n",
       " 'Science & Technology',\n",
       " 'Entertainment',\n",
       " 'Sports',\n",
       " 'People & Blogs',\n",
       " 'People & Blogs',\n",
       " 'Music',\n",
       " 'Music',\n",
       " 'Howto & Style',\n",
       " 'News & Politics',\n",
       " 'Entertainment',\n",
       " 'Music',\n",
       " 'People & Blogs',\n",
       " 'Entertainment',\n",
       " 'Music',\n",
       " 'Music',\n",
       " 'Pets & Animals',\n",
       " 'Howto & Style',\n",
       " 'Music',\n",
       " 'Music',\n",
       " 'Entertainment',\n",
       " 'Entertainment',\n",
       " 'Gaming',\n",
       " 'Entertainment',\n",
       " 'News & Politics',\n",
       " 'Music',\n",
       " 'Music',\n",
       " 'Comedy',\n",
       " 'People & Blogs',\n",
       " 'Entertainment',\n",
       " 'Film & Animation',\n",
       " 'Howto & Style',\n",
       " 'People & Blogs',\n",
       " 'Entertainment',\n",
       " 'Comedy',\n",
       " 'Gaming',\n",
       " 'Comedy',\n",
       " 'Science & Technology',\n",
       " 'Entertainment',\n",
       " 'Entertainment',\n",
       " 'News & Politics',\n",
       " 'Entertainment',\n",
       " 'Science & Technology',\n",
       " 'Entertainment',\n",
       " 'Howto & Style',\n",
       " 'Music',\n",
       " 'Music',\n",
       " 'Entertainment',\n",
       " 'Entertainment',\n",
       " 'Sports',\n",
       " 'Film & Animation',\n",
       " 'Comedy',\n",
       " 'Comedy',\n",
       " 'Science & Technology',\n",
       " 'Science & Technology',\n",
       " 'Comedy',\n",
       " 'Entertainment',\n",
       " 'Music',\n",
       " 'Entertainment',\n",
       " 'Science & Technology',\n",
       " 'Film & Animation',\n",
       " 'Entertainment',\n",
       " 'Music',\n",
       " 'Education',\n",
       " 'Entertainment',\n",
       " 'News & Politics',\n",
       " 'Sports',\n",
       " 'Entertainment',\n",
       " 'Education',\n",
       " 'Music',\n",
       " 'Howto & Style',\n",
       " 'Howto & Style',\n",
       " 'Sports',\n",
       " 'Comedy',\n",
       " 'Entertainment',\n",
       " 'Film & Animation',\n",
       " 'Sports',\n",
       " 'Sports',\n",
       " 'People & Blogs',\n",
       " 'Howto & Style',\n",
       " 'Entertainment',\n",
       " 'People & Blogs',\n",
       " 'Entertainment',\n",
       " 'Film & Animation',\n",
       " 'Entertainment',\n",
       " 'Science & Technology',\n",
       " 'Sports',\n",
       " 'Science & Technology',\n",
       " 'Education',\n",
       " 'Sports',\n",
       " 'Sports',\n",
       " 'Entertainment',\n",
       " 'Film & Animation',\n",
       " 'Pets & Animals',\n",
       " 'Music',\n",
       " 'Sports',\n",
       " 'Education',\n",
       " 'Education',\n",
       " 'Entertainment',\n",
       " 'Music',\n",
       " 'Entertainment',\n",
       " 'Entertainment',\n",
       " 'Education',\n",
       " 'Comedy',\n",
       " 'Entertainment',\n",
       " 'Comedy',\n",
       " 'Music',\n",
       " 'Entertainment',\n",
       " 'Entertainment',\n",
       " 'Sports',\n",
       " 'Entertainment',\n",
       " 'Pets & Animals',\n",
       " 'Music',\n",
       " 'Education',\n",
       " 'Entertainment',\n",
       " 'Entertainment',\n",
       " 'Entertainment',\n",
       " 'Music',\n",
       " 'Music',\n",
       " 'Travel & Events',\n",
       " 'Entertainment',\n",
       " 'Sports',\n",
       " 'Entertainment',\n",
       " 'Howto & Style',\n",
       " 'Science & Technology',\n",
       " 'Sports',\n",
       " 'Autos & Vehicles',\n",
       " 'Comedy',\n",
       " 'News & Politics',\n",
       " 'Education',\n",
       " 'Music',\n",
       " 'Science & Technology',\n",
       " 'Entertainment',\n",
       " 'Autos & Vehicles',\n",
       " 'Pets & Animals',\n",
       " 'Entertainment',\n",
       " 'Sports',\n",
       " 'News & Politics',\n",
       " 'Sports',\n",
       " 'News & Politics',\n",
       " 'Entertainment',\n",
       " 'Howto & Style',\n",
       " 'News & Politics',\n",
       " 'Comedy',\n",
       " 'Comedy',\n",
       " 'Science & Technology',\n",
       " 'Music',\n",
       " 'Howto & Style',\n",
       " 'Science & Technology',\n",
       " 'News & Politics',\n",
       " 'Travel & Events',\n",
       " 'Film & Animation',\n",
       " 'News & Politics',\n",
       " 'Sports',\n",
       " 'Entertainment',\n",
       " 'Entertainment',\n",
       " 'Music',\n",
       " 'Film & Animation',\n",
       " 'Howto & Style',\n",
       " 'Entertainment',\n",
       " 'People & Blogs',\n",
       " 'Autos & Vehicles',\n",
       " 'Sports',\n",
       " 'Comedy',\n",
       " 'Music',\n",
       " 'Sports',\n",
       " 'News & Politics',\n",
       " 'Film & Animation',\n",
       " 'People & Blogs',\n",
       " 'Entertainment',\n",
       " 'Howto & Style',\n",
       " 'Travel & Events',\n",
       " 'News & Politics',\n",
       " 'Music',\n",
       " 'Music',\n",
       " 'News & Politics',\n",
       " 'Sports',\n",
       " 'Sports',\n",
       " 'Entertainment',\n",
       " 'People & Blogs',\n",
       " 'Entertainment',\n",
       " 'Entertainment',\n",
       " 'Entertainment',\n",
       " 'News & Politics',\n",
       " 'Music',\n",
       " 'People & Blogs',\n",
       " 'Science & Technology',\n",
       " 'People & Blogs',\n",
       " 'Film & Animation',\n",
       " 'Music',\n",
       " 'Sports',\n",
       " 'Science & Technology',\n",
       " 'Entertainment',\n",
       " 'People & Blogs',\n",
       " 'News & Politics',\n",
       " 'Comedy',\n",
       " 'Science & Technology',\n",
       " 'Entertainment',\n",
       " 'Music',\n",
       " 'Howto & Style',\n",
       " 'Music',\n",
       " 'Science & Technology',\n",
       " 'Entertainment',\n",
       " 'Music',\n",
       " 'Music',\n",
       " 'Howto & Style',\n",
       " 'Howto & Style',\n",
       " 'Howto & Style',\n",
       " 'Pets & Animals',\n",
       " 'People & Blogs',\n",
       " 'Science & Technology',\n",
       " 'Film & Animation',\n",
       " 'Entertainment',\n",
       " 'Entertainment',\n",
       " 'Education',\n",
       " 'Entertainment',\n",
       " 'Pets & Animals',\n",
       " 'Music',\n",
       " 'Music',\n",
       " 'Entertainment',\n",
       " 'Music',\n",
       " 'Entertainment',\n",
       " 'Comedy',\n",
       " 'Film & Animation',\n",
       " 'Howto & Style',\n",
       " 'Music',\n",
       " 'Music',\n",
       " 'People & Blogs',\n",
       " 'Music',\n",
       " 'Comedy',\n",
       " 'Science & Technology',\n",
       " 'Entertainment',\n",
       " 'Entertainment',\n",
       " 'Film & Animation',\n",
       " 'Music',\n",
       " 'Film & Animation',\n",
       " 'Howto & Style',\n",
       " 'Entertainment',\n",
       " 'Music',\n",
       " 'Education',\n",
       " 'Entertainment',\n",
       " 'People & Blogs',\n",
       " 'Music',\n",
       " 'News & Politics',\n",
       " 'Pets & Animals',\n",
       " 'Entertainment',\n",
       " 'Science & Technology',\n",
       " 'Comedy',\n",
       " 'Howto & Style',\n",
       " 'Gaming',\n",
       " 'Entertainment',\n",
       " 'People & Blogs',\n",
       " 'Entertainment',\n",
       " 'Comedy',\n",
       " 'Science & Technology',\n",
       " 'Science & Technology',\n",
       " 'Music',\n",
       " 'Comedy',\n",
       " 'People & Blogs',\n",
       " 'Entertainment',\n",
       " 'Entertainment',\n",
       " 'Comedy',\n",
       " 'News & Politics',\n",
       " 'Entertainment',\n",
       " 'People & Blogs',\n",
       " 'Entertainment',\n",
       " 'Science & Technology',\n",
       " 'Music',\n",
       " 'Music',\n",
       " 'Comedy',\n",
       " 'Entertainment',\n",
       " 'Music',\n",
       " 'Music',\n",
       " 'Entertainment',\n",
       " 'Sports',\n",
       " 'Sports',\n",
       " 'Science & Technology',\n",
       " 'Entertainment',\n",
       " 'Entertainment',\n",
       " 'Science & Technology',\n",
       " 'Science & Technology',\n",
       " 'Howto & Style',\n",
       " 'Gaming',\n",
       " 'Film & Animation',\n",
       " 'Comedy',\n",
       " 'Entertainment',\n",
       " 'Education',\n",
       " 'Music',\n",
       " 'Entertainment',\n",
       " 'Sports',\n",
       " 'Entertainment',\n",
       " 'Comedy',\n",
       " 'Education',\n",
       " 'Entertainment',\n",
       " 'Education',\n",
       " 'Music',\n",
       " 'Music',\n",
       " 'Sports',\n",
       " 'Sports',\n",
       " 'Entertainment',\n",
       " 'Film & Animation',\n",
       " 'Entertainment',\n",
       " 'Music',\n",
       " 'Howto & Style',\n",
       " 'Entertainment',\n",
       " 'Music',\n",
       " 'Sports',\n",
       " 'Entertainment',\n",
       " 'Sports',\n",
       " 'Howto & Style',\n",
       " 'Comedy',\n",
       " 'Comedy',\n",
       " 'News & Politics',\n",
       " 'People & Blogs',\n",
       " 'Film & Animation',\n",
       " 'Howto & Style',\n",
       " 'Entertainment',\n",
       " 'Entertainment',\n",
       " 'Music',\n",
       " 'People & Blogs',\n",
       " 'Entertainment',\n",
       " 'Howto & Style',\n",
       " 'Science & Technology',\n",
       " 'Entertainment',\n",
       " 'Music',\n",
       " 'Science & Technology',\n",
       " 'Education',\n",
       " 'Autos & Vehicles',\n",
       " 'Comedy',\n",
       " 'Pets & Animals',\n",
       " 'Sports',\n",
       " 'Film & Animation',\n",
       " 'Education',\n",
       " 'Music',\n",
       " 'Entertainment',\n",
       " 'Education',\n",
       " 'Sports',\n",
       " 'Entertainment',\n",
       " 'Sports',\n",
       " 'Entertainment',\n",
       " 'Education',\n",
       " 'Music',\n",
       " 'Education',\n",
       " 'Comedy',\n",
       " 'Entertainment',\n",
       " 'Entertainment',\n",
       " 'Entertainment',\n",
       " 'Music',\n",
       " 'Music',\n",
       " 'Comedy',\n",
       " 'Entertainment',\n",
       " 'Entertainment',\n",
       " 'Entertainment',\n",
       " 'Pets & Animals',\n",
       " 'Autos & Vehicles',\n",
       " 'Science & Technology',\n",
       " 'Education',\n",
       " 'Sports',\n",
       " 'News & Politics',\n",
       " 'Science & Technology',\n",
       " 'Autos & Vehicles',\n",
       " 'Music',\n",
       " 'News & Politics',\n",
       " 'Pets & Animals',\n",
       " 'Entertainment',\n",
       " 'Howto & Style',\n",
       " 'Comedy',\n",
       " 'Comedy',\n",
       " 'News & Politics',\n",
       " 'Music',\n",
       " 'Sports',\n",
       " 'Science & Technology',\n",
       " 'News & Politics',\n",
       " 'Entertainment',\n",
       " 'News & Politics',\n",
       " 'Howto & Style',\n",
       " 'Sports',\n",
       " 'Travel & Events',\n",
       " 'Comedy',\n",
       " 'Film & Animation',\n",
       " 'Sports',\n",
       " 'Entertainment',\n",
       " 'Howto & Style',\n",
       " 'Entertainment',\n",
       " 'Comedy',\n",
       " 'Film & Animation',\n",
       " 'Science & Technology',\n",
       " 'News & Politics',\n",
       " 'Music',\n",
       " 'Howto & Style',\n",
       " 'News & Politics',\n",
       " 'Entertainment',\n",
       " 'People & Blogs',\n",
       " 'Sports',\n",
       " 'Comedy',\n",
       " 'Sports',\n",
       " 'Music',\n",
       " 'News & Politics',\n",
       " 'Music',\n",
       " 'Film & Animation',\n",
       " 'People & Blogs',\n",
       " 'News & Politics',\n",
       " 'Entertainment',\n",
       " 'News & Politics',\n",
       " 'Travel & Events',\n",
       " 'Entertainment',\n",
       " 'Howto & Style',\n",
       " 'Sports',\n",
       " 'Music',\n",
       " 'People & Blogs',\n",
       " 'Entertainment',\n",
       " 'Science & Technology',\n",
       " 'News & Politics',\n",
       " 'Music',\n",
       " 'Entertainment',\n",
       " 'Music',\n",
       " 'Sports',\n",
       " 'Film & Animation',\n",
       " 'People & Blogs',\n",
       " 'Sports',\n",
       " 'Entertainment',\n",
       " 'Howto & Style',\n",
       " 'Comedy',\n",
       " 'News & Politics',\n",
       " 'Entertainment',\n",
       " 'Music',\n",
       " 'Entertainment',\n",
       " 'Music',\n",
       " 'Entertainment',\n",
       " 'Science & Technology',\n",
       " 'Science & Technology',\n",
       " 'Music',\n",
       " 'Entertainment',\n",
       " 'Entertainment',\n",
       " 'Music',\n",
       " 'Music',\n",
       " 'News & Politics',\n",
       " 'Music',\n",
       " 'Entertainment',\n",
       " 'Film & Animation',\n",
       " 'Comedy',\n",
       " 'People & Blogs',\n",
       " 'Music',\n",
       " 'Music',\n",
       " 'Film & Animation',\n",
       " 'Music',\n",
       " 'Howto & Style',\n",
       " 'Science & Technology',\n",
       " 'Education',\n",
       " 'Entertainment',\n",
       " 'Entertainment',\n",
       " 'Entertainment',\n",
       " 'People & Blogs',\n",
       " 'Education',\n",
       " 'People & Blogs',\n",
       " 'Education',\n",
       " 'Music',\n",
       " 'People & Blogs',\n",
       " 'Science & Technology',\n",
       " 'Entertainment',\n",
       " 'Howto & Style',\n",
       " 'Pets & Animals',\n",
       " 'Music',\n",
       " 'Entertainment',\n",
       " 'Howto & Style',\n",
       " 'Music',\n",
       " 'Howto & Style',\n",
       " 'Comedy',\n",
       " 'Entertainment',\n",
       " 'People & Blogs',\n",
       " 'Music',\n",
       " 'Gaming',\n",
       " 'Howto & Style',\n",
       " 'Howto & Style',\n",
       " 'Sports',\n",
       " 'Music',\n",
       " 'News & Politics',\n",
       " 'Science & Technology',\n",
       " 'Entertainment',\n",
       " 'Music',\n",
       " 'Music',\n",
       " 'Entertainment',\n",
       " 'Music',\n",
       " 'Entertainment',\n",
       " 'Science & Technology',\n",
       " 'Entertainment',\n",
       " 'Comedy',\n",
       " 'Sports',\n",
       " 'Entertainment',\n",
       " 'People & Blogs',\n",
       " 'Music',\n",
       " 'Film & Animation',\n",
       " 'Comedy',\n",
       " 'Entertainment',\n",
       " 'Entertainment',\n",
       " 'Entertainment',\n",
       " 'People & Blogs',\n",
       " 'Entertainment',\n",
       " 'Music',\n",
       " 'People & Blogs',\n",
       " 'Science & Technology',\n",
       " 'Entertainment',\n",
       " 'Music',\n",
       " 'Comedy',\n",
       " 'Music',\n",
       " 'Gaming',\n",
       " 'Science & Technology',\n",
       " 'Sports',\n",
       " 'Comedy',\n",
       " 'Entertainment',\n",
       " 'Science & Technology',\n",
       " 'Entertainment',\n",
       " 'Howto & Style',\n",
       " 'Music',\n",
       " 'Entertainment',\n",
       " 'Music',\n",
       " 'Science & Technology',\n",
       " 'Howto & Style',\n",
       " 'Comedy',\n",
       " 'Education',\n",
       " 'Film & Animation',\n",
       " 'Entertainment',\n",
       " 'Comedy',\n",
       " 'Education',\n",
       " 'Sports',\n",
       " 'Music',\n",
       " 'Comedy',\n",
       " 'News & Politics',\n",
       " 'Education',\n",
       " 'Entertainment',\n",
       " 'Entertainment',\n",
       " 'Film & Animation',\n",
       " 'People & Blogs',\n",
       " 'Music',\n",
       " 'Science & Technology',\n",
       " 'Sports',\n",
       " 'Entertainment',\n",
       " 'Sports',\n",
       " 'Comedy',\n",
       " 'Entertainment',\n",
       " 'Sports',\n",
       " 'Howto & Style',\n",
       " 'Comedy',\n",
       " 'News & Politics',\n",
       " 'News & Politics',\n",
       " 'People & Blogs',\n",
       " 'Entertainment',\n",
       " 'Film & Animation',\n",
       " 'Music',\n",
       " 'Pets & Animals',\n",
       " 'Entertainment',\n",
       " 'Entertainment',\n",
       " 'Music',\n",
       " 'Entertainment',\n",
       " 'People & Blogs',\n",
       " 'Entertainment',\n",
       " 'Autos & Vehicles',\n",
       " 'Science & Technology',\n",
       " 'Howto & Style',\n",
       " 'Science & Technology',\n",
       " 'Entertainment',\n",
       " 'Sports',\n",
       " 'Education',\n",
       " 'Music',\n",
       " 'Sports',\n",
       " 'Science & Technology',\n",
       " 'Music',\n",
       " 'Education',\n",
       " 'Sports',\n",
       " 'Film & Animation',\n",
       " 'Entertainment',\n",
       " 'Education',\n",
       " 'Entertainment',\n",
       " 'Music',\n",
       " 'Education',\n",
       " 'Entertainment',\n",
       " 'Entertainment',\n",
       " 'Pets & Animals',\n",
       " 'Entertainment',\n",
       " 'Entertainment',\n",
       " 'Music',\n",
       " 'Music',\n",
       " 'Entertainment',\n",
       " 'Music',\n",
       " 'Comedy',\n",
       " 'Entertainment',\n",
       " 'Comedy',\n",
       " 'Sports',\n",
       " 'Autos & Vehicles',\n",
       " 'Education',\n",
       " 'Entertainment',\n",
       " 'Comedy',\n",
       " 'Science & Technology',\n",
       " 'Sports',\n",
       " 'Science & Technology',\n",
       " 'Entertainment',\n",
       " 'News & Politics',\n",
       " 'Howto & Style',\n",
       " 'News & Politics',\n",
       " 'Howto & Style',\n",
       " 'Education',\n",
       " 'Howto & Style',\n",
       " 'Sports',\n",
       " 'Autos & Vehicles',\n",
       " 'Entertainment',\n",
       " 'Comedy',\n",
       " 'Music',\n",
       " 'Music',\n",
       " 'Comedy',\n",
       " 'News & Politics',\n",
       " 'Pets & Animals',\n",
       " 'News & Politics',\n",
       " 'Entertainment',\n",
       " 'News & Politics',\n",
       " 'Travel & Events',\n",
       " 'Sports',\n",
       " 'Comedy',\n",
       " 'Science & Technology',\n",
       " 'Sports',\n",
       " 'Film & Animation',\n",
       " 'Film & Animation',\n",
       " 'Entertainment',\n",
       " 'Entertainment',\n",
       " 'Science & Technology',\n",
       " 'News & Politics',\n",
       " 'Music',\n",
       " 'Comedy',\n",
       " 'News & Politics',\n",
       " 'Howto & Style',\n",
       " 'Entertainment',\n",
       " ...]"
      ]
     },
     "execution_count": 11,
     "metadata": {},
     "output_type": "execute_result"
    }
   ],
   "source": [
    "category = []\n",
    "for i in US_data['category_id'].values:\n",
    "    if(str(i) in US_category_list.keys()):\n",
    "        category.append(US_category_list[str(i)])\n",
    "    else:\n",
    "        category.append('unknown')\n",
    "category"
   ]
  },
  {
   "cell_type": "code",
   "execution_count": 12,
   "metadata": {
    "scrolled": true
   },
   "outputs": [
    {
     "data": {
      "text/plain": [
       "Entertainment            9964\n",
       "Music                    6472\n",
       "Howto & Style            4146\n",
       "Comedy                   3457\n",
       "People & Blogs           3210\n",
       "News & Politics          2487\n",
       "Science & Technology     2401\n",
       "Film & Animation         2345\n",
       "Sports                   2174\n",
       "Education                1656\n",
       "Pets & Animals            920\n",
       "Gaming                    817\n",
       "Travel & Events           402\n",
       "Autos & Vehicles          384\n",
       "Shows                      57\n",
       "Nonprofits & Activism      57\n",
       "dtype: int64"
      ]
     },
     "execution_count": 12,
     "metadata": {},
     "output_type": "execute_result"
    }
   ],
   "source": [
    "frequency_category = pd.Series(category).value_counts()\n",
    "frequency_category"
   ]
  },
  {
   "cell_type": "code",
   "execution_count": 13,
   "metadata": {
    "scrolled": true
   },
   "outputs": [
    {
     "data": {
      "image/png": "[encoded data removed]",
      "text/plain": [
       "<Figure size 2304x432 with 1 Axes>"
      ]
     },
     "metadata": {
      "needs_background": "light"
     },
     "output_type": "display_data"
    }
   ],
   "source": [
    "fig = plt.figure(figsize = (32, 6))\n",
    "plt.hist(np.array(category), bins = 40, alpha = 0.7)\n",
    "plt.xlabel('trending video categories')\n",
    "plt.ylabel('numbers')\n",
    "plt.show()"
   ]
  },
  {
   "cell_type": "code",
   "execution_count": 14,
   "metadata": {},
   "outputs": [
    {
     "data": {
      "image/png": "[encoded data removed]",
      "text/plain": [
       "<Figure size 288x432 with 1 Axes>"
      ]
     },
     "metadata": {
      "needs_background": "light"
     },
     "output_type": "display_data"
    }
   ],
   "source": [
    "fig = plt.figure(figsize=(4, 6))\n",
    "plt.boxplot(np.array(frequency_category), notch=False, vert=True)\n",
    "plt.ylabel('trending video numbers')\n",
    "plt.show()"
   ]
  },
  {
   "cell_type": "code",
   "execution_count": 15,
   "metadata": {},
   "outputs": [
    {
     "data": {
      "image/png": "[encoded data removed]",
      "text/plain": [
       "<Figure size 1152x432 with 1 Axes>"
      ]
     },
     "metadata": {
      "needs_background": "light"
     },
     "output_type": "display_data"
    }
   ],
   "source": [
    "fig = plt.figure(figsize = (16, 6))\n",
    "plt.hist(np.array(frequency_category), bins = 40, alpha = 0.7)\n",
    "plt.xlabel('trending video numbers')\n",
    "plt.ylabel('frequency')\n",
    "plt.show()"
   ]
  },
  {
   "cell_type": "markdown",
   "metadata": {},
   "source": [
    "### Tags\n",
    "数据集中Tag项存在缺失值。  \n",
    "可能的原因：up主在上传视频时没有添加标签。  \n",
    "可以处理的方式：  \n",
    "- 将缺失值的条目删除\n",
    "- 用title代替\n"
   ]
  },
  {
   "cell_type": "markdown",
   "metadata": {},
   "source": [
    "### Views"
   ]
  },
  {
   "cell_type": "code",
   "execution_count": 16,
   "metadata": {},
   "outputs": [
    {
     "name": "stdout",
     "output_type": "stream",
     "text": [
      "549.0\n",
      "242329.0\n",
      "681861.0\n",
      "1823157.0\n",
      "225211923.0\n"
     ]
    }
   ],
   "source": [
    "US_data_views = np.array(US_data['views'])\n",
    "US_data_views.sort()\n",
    "for i in range(0,101,25):\n",
    "        print(np.percentile(US_data_views, i))"
   ]
  },
  {
   "cell_type": "code",
   "execution_count": 17,
   "metadata": {},
   "outputs": [
    {
     "data": {
      "image/png": "[encoded data removed]",
      "text/plain": [
       "<Figure size 288x432 with 1 Axes>"
      ]
     },
     "metadata": {
      "needs_background": "light"
     },
     "output_type": "display_data"
    }
   ],
   "source": [
    "fig = plt.figure(figsize=(4, 6))\n",
    "plt.boxplot(US_data_views, notch=False, vert=True)\n",
    "plt.ylabel('trending video views')\n",
    "plt.show()"
   ]
  },
  {
   "cell_type": "code",
   "execution_count": 18,
   "metadata": {
    "scrolled": true
   },
   "outputs": [
    {
     "data": {
      "image/png": "[encoded data removed]",
      "text/plain": [
       "<Figure size 1152x216 with 1 Axes>"
      ]
     },
     "metadata": {
      "needs_background": "light"
     },
     "output_type": "display_data"
    }
   ],
   "source": [
    "fig = plt.figure(figsize = (16, 3))\n",
    "plt.hist(np.array(US_data['views']), bins = 100, alpha = 0.7)\n",
    "plt.xlabel('trending video views')\n",
    "plt.ylabel('frequency')\n",
    "plt.show()"
   ]
  },
  {
   "cell_type": "markdown",
   "metadata": {},
   "source": [
    "### Likes"
   ]
  },
  {
   "cell_type": "code",
   "execution_count": 19,
   "metadata": {},
   "outputs": [
    {
     "name": "stdout",
     "output_type": "stream",
     "text": [
      "0.0\n",
      "5424.0\n",
      "18091.0\n",
      "55417.0\n",
      "5613827.0\n"
     ]
    }
   ],
   "source": [
    "US_data_likes = np.array(US_data['likes'])\n",
    "US_data_likes.sort()\n",
    "for i in range(0,101,25):\n",
    "        print(np.percentile(US_data_likes, i))"
   ]
  },
  {
   "cell_type": "code",
   "execution_count": 20,
   "metadata": {},
   "outputs": [
    {
     "data": {
      "image/png": "[encoded data removed]",
      "text/plain": [
       "<Figure size 288x432 with 1 Axes>"
      ]
     },
     "metadata": {
      "needs_background": "light"
     },
     "output_type": "display_data"
    }
   ],
   "source": [
    "fig = plt.figure(figsize=(4, 6))\n",
    "plt.boxplot(US_data_likes, notch=False, vert=True)\n",
    "plt.ylabel('trending video likes')\n",
    "plt.show()"
   ]
  },
  {
   "cell_type": "code",
   "execution_count": 21,
   "metadata": {},
   "outputs": [
    {
     "data": {
      "image/png": "[encoded data removed]",
      "text/plain": [
       "<Figure size 1152x216 with 1 Axes>"
      ]
     },
     "metadata": {
      "needs_background": "light"
     },
     "output_type": "display_data"
    }
   ],
   "source": [
    "fig = plt.figure(figsize = (16, 3))\n",
    "plt.hist(US_data_likes, bins = 100, alpha = 0.7)\n",
    "plt.xlabel('trending video likes')\n",
    "plt.ylabel('frequency')\n",
    "plt.show()"
   ]
  },
  {
   "cell_type": "markdown",
   "metadata": {},
   "source": [
    "### Dislikes"
   ]
  },
  {
   "cell_type": "code",
   "execution_count": 22,
   "metadata": {},
   "outputs": [
    {
     "name": "stdout",
     "output_type": "stream",
     "text": [
      "0.0\n",
      "202.0\n",
      "631.0\n",
      "1938.0\n",
      "1674420.0\n"
     ]
    }
   ],
   "source": [
    "US_data_dislikes = np.array(US_data['dislikes'])\n",
    "US_data_dislikes.sort()\n",
    "for i in range(0,101,25):\n",
    "        print(np.percentile(US_data_dislikes, i))"
   ]
  },
  {
   "cell_type": "code",
   "execution_count": 23,
   "metadata": {},
   "outputs": [
    {
     "data": {
      "image/png": "[encoded data removed]",
      "text/plain": [
       "<Figure size 288x432 with 1 Axes>"
      ]
     },
     "metadata": {
      "needs_background": "light"
     },
     "output_type": "display_data"
    }
   ],
   "source": [
    "fig = plt.figure(figsize=(4, 6))\n",
    "plt.boxplot(US_data_dislikes, notch=False, vert=True)\n",
    "plt.ylabel('trending video dislikes')\n",
    "plt.show()"
   ]
  },
  {
   "cell_type": "code",
   "execution_count": 24,
   "metadata": {},
   "outputs": [
    {
     "data": {
      "image/png": "[encoded data removed]",
      "text/plain": [
       "<Figure size 1152x216 with 1 Axes>"
      ]
     },
     "metadata": {
      "needs_background": "light"
     },
     "output_type": "display_data"
    }
   ],
   "source": [
    "fig = plt.figure(figsize = (16, 3))\n",
    "plt.hist(US_data_dislikes, bins = 100, alpha = 0.7)\n",
    "plt.xlabel('trending video dislikes')\n",
    "plt.ylabel('frequency')\n",
    "plt.show()"
   ]
  },
  {
   "cell_type": "markdown",
   "metadata": {},
   "source": [
    "### Comment_count"
   ]
  },
  {
   "cell_type": "code",
   "execution_count": 25,
   "metadata": {},
   "outputs": [
    {
     "name": "stdout",
     "output_type": "stream",
     "text": [
      "0.0\n",
      "614.0\n",
      "1856.0\n",
      "5755.0\n",
      "1361580.0\n"
     ]
    }
   ],
   "source": [
    "US_data_comment_count = np.array(US_data['comment_count'])\n",
    "US_data_comment_count.sort()\n",
    "for i in range(0,101,25):\n",
    "        print(np.percentile(US_data_comment_count, i))"
   ]
  },
  {
   "cell_type": "code",
   "execution_count": 26,
   "metadata": {},
   "outputs": [
    {
     "data": {
      "image/png": "[encoded data removed]",
      "text/plain": [
       "<Figure size 288x432 with 1 Axes>"
      ]
     },
     "metadata": {
      "needs_background": "light"
     },
     "output_type": "display_data"
    }
   ],
   "source": [
    "fig = plt.figure(figsize=(4, 6))\n",
    "plt.boxplot(US_data_comment_count, notch=False, vert=True)\n",
    "plt.ylabel('trending video comment_count')\n",
    "plt.show()"
   ]
  },
  {
   "cell_type": "code",
   "execution_count": 27,
   "metadata": {},
   "outputs": [
    {
     "data": {
      "image/png": "[encoded data removed]",
      "text/plain": [
       "<Figure size 1152x216 with 1 Axes>"
      ]
     },
     "metadata": {
      "needs_background": "light"
     },
     "output_type": "display_data"
    }
   ],
   "source": [
    "fig = plt.figure(figsize = (16, 3))\n",
    "plt.hist(US_data_comment_count, bins = 100, alpha = 0.7)\n",
    "plt.xlabel('trending video comment_count')\n",
    "plt.ylabel('frequency')\n",
    "plt.show()"
   ]
  },
  {
   "cell_type": "markdown",
   "metadata": {},
   "source": [
    "### Comments_disabled"
   ]
  },
  {
   "cell_type": "code",
   "execution_count": 28,
   "metadata": {},
   "outputs": [
    {
     "data": {
      "text/plain": [
       "False    40316\n",
       "True       633\n",
       "Name: comments_disabled, dtype: int64"
      ]
     },
     "execution_count": 28,
     "metadata": {},
     "output_type": "execute_result"
    }
   ],
   "source": [
    "US_data_comments_disabled = US_data['comments_disabled'].value_counts()\n",
    "US_data_comments_disabled"
   ]
  },
  {
   "cell_type": "code",
   "execution_count": 57,
   "metadata": {},
   "outputs": [
    {
     "data": {
      "image/png": "[encoded data removed]",
      "text/plain": [
       "<Figure size 360x360 with 1 Axes>"
      ]
     },
     "metadata": {},
     "output_type": "display_data"
    }
   ],
   "source": [
    "fig = plt.figure(figsize = (5, 5))\n",
    "plt.pie(np.array(US_data_comments_disabled), autopct='%.2f%%', labels = ['False', 'True'])\n",
    "plt.xlabel('comments disabled percentage')\n",
    "plt.show()"
   ]
  },
  {
   "cell_type": "code",
   "execution_count": 31,
   "metadata": {},
   "outputs": [
    {
     "data": {
      "image/png": "[encoded data removed]",
      "text/plain": [
       "<Figure size 288x216 with 1 Axes>"
      ]
     },
     "metadata": {
      "needs_background": "light"
     },
     "output_type": "display_data"
    }
   ],
   "source": [
    "fig = plt.figure(figsize = (4, 3))\n",
    "plt.hist(np.array(US_data_comments_disabled), bins = 40, alpha = 0.7)\n",
    "plt.xlabel('comments disabled numbers')\n",
    "plt.ylabel('frequency')\n",
    "plt.show()"
   ]
  },
  {
   "cell_type": "markdown",
   "metadata": {},
   "source": [
    "### Ratings_disabled"
   ]
  },
  {
   "cell_type": "code",
   "execution_count": 58,
   "metadata": {
    "scrolled": true
   },
   "outputs": [
    {
     "data": {
      "text/plain": [
       "False    40780\n",
       "True       169\n",
       "Name: ratings_disabled, dtype: int64"
      ]
     },
     "execution_count": 58,
     "metadata": {},
     "output_type": "execute_result"
    }
   ],
   "source": [
    "US_data_ratings_disabled = US_data['ratings_disabled'].value_counts()\n",
    "US_data_ratings_disabled"
   ]
  },
  {
   "cell_type": "code",
   "execution_count": 59,
   "metadata": {},
   "outputs": [
    {
     "data": {
      "image/png": "[encoded data removed]",
      "text/plain": [
       "<Figure size 360x360 with 1 Axes>"
      ]
     },
     "metadata": {},
     "output_type": "display_data"
    }
   ],
   "source": [
    "fig = plt.figure(figsize = (5, 5))\n",
    "plt.pie(np.array(US_data_ratings_disabled), autopct='%.2f%%', labels = ['False', 'True'])\n",
    "plt.xlabel('ratings disabled percentage')\n",
    "plt.show()"
   ]
  },
  {
   "cell_type": "code",
   "execution_count": 60,
   "metadata": {},
   "outputs": [
    {
     "data": {
      "image/png": "[encoded data removed]",
      "text/plain": [
       "<Figure size 288x216 with 1 Axes>"
      ]
     },
     "metadata": {
      "needs_background": "light"
     },
     "output_type": "display_data"
    }
   ],
   "source": [
    "fig = plt.figure(figsize = (4, 3))\n",
    "plt.hist(np.array(US_data_ratings_disabled), bins = 40, alpha = 0.7)\n",
    "plt.xlabel('ratings disabled numbers')\n",
    "plt.ylabel('frequency')\n",
    "plt.show()"
   ]
  },
  {
   "cell_type": "markdown",
   "metadata": {},
   "source": [
    "### Video_error_or_removed"
   ]
  },
  {
   "cell_type": "code",
   "execution_count": 61,
   "metadata": {
    "scrolled": true
   },
   "outputs": [
    {
     "data": {
      "text/plain": [
       "False    40926\n",
       "True        23\n",
       "Name: video_error_or_removed, dtype: int64"
      ]
     },
     "execution_count": 61,
     "metadata": {},
     "output_type": "execute_result"
    }
   ],
   "source": [
    "US_data_video_error_or_removed = US_data['video_error_or_removed'].value_counts()\n",
    "US_data_video_error_or_removed"
   ]
  },
  {
   "cell_type": "code",
   "execution_count": 62,
   "metadata": {
    "scrolled": true
   },
   "outputs": [
    {
     "data": {
      "image/png": "[encoded data removed]",
      "text/plain": [
       "<Figure size 360x360 with 1 Axes>"
      ]
     },
     "metadata": {},
     "output_type": "display_data"
    }
   ],
   "source": [
    "fig = plt.figure(figsize = (5, 5))\n",
    "plt.pie(np.array(US_data_video_error_or_removed), autopct='%.2f%%', labels = ['False', 'True'])\n",
    "plt.xlabel('video_error_or_removed percentage')\n",
    "plt.show()"
   ]
  },
  {
   "cell_type": "code",
   "execution_count": 63,
   "metadata": {},
   "outputs": [
    {
     "data": {
      "image/png": "[encoded data removed]",
      "text/plain": [
       "<Figure size 288x216 with 1 Axes>"
      ]
     },
     "metadata": {
      "needs_background": "light"
     },
     "output_type": "display_data"
    }
   ],
   "source": [
    "fig = plt.figure(figsize = (4, 3))\n",
    "plt.hist(np.array(US_data_video_error_or_removed), bins = 40, alpha = 0.7)\n",
    "plt.xlabel('video_error_or_removed numbers')\n",
    "plt.ylabel('frequency')\n",
    "plt.show()"
   ]
  }
 ],
 "metadata": {
  "kernelspec": {
   "display_name": "Python 3",
   "language": "python",
   "name": "python3"
  },
  "language_info": {
   "codemirror_mode": {
    "name": "ipython",
    "version": 3
   },
   "file_extension": ".py",
   "mimetype": "text/x-python",
   "name": "python",
   "nbconvert_exporter": "python",
   "pygments_lexer": "ipython3",
   "version": "3.6.9"
  }
 },
 "nbformat": 4,
 "nbformat_minor": 4
}
