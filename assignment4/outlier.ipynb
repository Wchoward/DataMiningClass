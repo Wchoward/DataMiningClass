{
 "cells": [
  {
   "cell_type": "markdown",
   "metadata": {},
   "source": [
    "# 离群点分析与异常检测\n",
    "仓库地址为：https://github.com/Wchoward/DataMiningClass/tree/master/assignment4"
   ]
  },
  {
   "cell_type": "code",
   "execution_count": 1,
   "metadata": {},
   "outputs": [],
   "source": [
    "from __future__ import division\n",
    "from __future__ import print_function\n",
    "\n",
    "import os\n",
    "import sys\n",
    "from time import time\n",
    "\n",
    "# temporary solution for relative imports in case pyod is not installed\n",
    "# if pyod is installed, no need to use the following line\n",
    "sys.path.append(\n",
    "    os.path.abspath(os.path.join(os.path.dirname(\"__file__\"), '..')))\n",
    "# supress warnings for clean output\n",
    "import warnings\n",
    "\n",
    "warnings.filterwarnings(\"ignore\")\n",
    "\n",
    "import numpy as np\n",
    "import pandas as pd\n",
    "from sklearn.model_selection import train_test_split\n",
    "\n",
    "from pyod.models.abod import ABOD\n",
    "from pyod.models.cblof import CBLOF\n",
    "from pyod.models.feature_bagging import FeatureBagging\n",
    "from pyod.models.hbos import HBOS\n",
    "from pyod.models.iforest import IForest\n",
    "from pyod.models.knn import KNN\n",
    "from pyod.models.lof import LOF\n",
    "from pyod.models.mcd import MCD\n",
    "from pyod.models.ocsvm import OCSVM\n",
    "from pyod.models.pca import PCA\n",
    "\n",
    "from pyod.utils.utility import standardizer\n",
    "from pyod.utils.utility import precision_n_scores\n",
    "from sklearn.metrics import roc_auc_score"
   ]
  },
  {
   "cell_type": "code",
   "execution_count": null,
   "metadata": {},
   "outputs": [],
   "source": [
    "def get_dir_filelist(dir):\n",
    "    filelst = [os.path.join(dir, file) for file in os.listdir(dir)]\n",
    "    return filelst"
   ]
  },
  {
   "cell_type": "markdown",
   "metadata": {},
   "source": [
    "## 模型及代码\n",
    "### 数据获取"
   ]
  },
  {
   "cell_type": "markdown",
   "metadata": {},
   "source": [
    "获取数据文件列表并排序，并创建roc_df, prn_df, time_df分别用来对roc_auc_score, precision_n_scores和耗费时间 进行存储。"
   ]
  },
  {
   "cell_type": "code",
   "execution_count": null,
   "metadata": {},
   "outputs": [],
   "source": [
    "file_list = get_dir_filelist('../../data/abalone/benchmarks')\n",
    "file_list.sort()\n",
    "# Define nine outlier detection tools to be compared\n",
    "random_state = np.random.RandomState(42)\n",
    "\n",
    "df_columns = ['Data', '#Samples', '# Dimensions', 'Outlier Perc',\n",
    "              'ABOD', 'CBLOF', 'FB', 'HBOS', 'IForest', 'KNN', 'LOF', 'MCD',\n",
    "              'OCSVM', 'PCA']\n",
    "roc_df = pd.DataFrame(columns=df_columns)\n",
    "prn_df = pd.DataFrame(columns=df_columns)\n",
    "time_df = pd.DataFrame(columns=df_columns)"
   ]
  },
  {
   "cell_type": "markdown",
   "metadata": {},
   "source": [
    "对文件列表中的每个文件进行离群点检测，采用[Python Outlier Detection (PyOD)](https://github.com/yzhao062/pyod)工具包进行离群点检测分析，使用的模型包含：  \n",
    "- Angle-based Outlier Detector (ABOD)\n",
    "- Cluster-based Local Outlier Factor\n",
    "- Feature Bagging\n",
    "- Histogram-base Outlier Detection (HBOS)\n",
    "- Isolation Forest\n",
    "- K Nearest Neighbors (KNN)\n",
    "- Local Outlier Factor (LOF)\n",
    "- Minimum Covariance Determinant (MCD)\n",
    "- One-class SVM (OCSVM)\n",
    "- Principal Component Analysis (PCA)\n"
   ]
  },
  {
   "cell_type": "code",
   "execution_count": null,
   "metadata": {},
   "outputs": [],
   "source": [
    "for file in file_list:\n",
    "    print('----------')\n",
    "    print('processing file '+ file[-8:-4])\n",
    "    print('----------')\n",
    "    df = pd.read_csv(file)\n",
    "    x = df.drop(['ground.truth','point.id','motherset','origin'],axis = 1).values\n",
    "    y = df['ground.truth'].values\n",
    "    y = [0 if i == 'nominal' else 1 for i in y]\n",
    "    \n",
    "    outliers_fraction = min(np.count_nonzero(y) / len(y),0.5)\n",
    "    outliers_percentage = round(outliers_fraction * 100, ndigits=4)\n",
    "\n",
    "    # construct containers for saving results\n",
    "    roc_list = [file[-8:-4], x.shape[0], x.shape[1], outliers_percentage]\n",
    "    prn_list = [file[-8:-4], x.shape[0], x.shape[1], outliers_percentage]\n",
    "    time_list = [file[-8:-4], x.shape[0], x.shape[1], outliers_percentage]\n",
    "    \n",
    "    # 60% data for training and 40% for testing\n",
    "    X_train, X_test, y_train, y_test = train_test_split(x, y, test_size=0.4,\n",
    "                                                        random_state=random_state)\n",
    "\n",
    "    # standardizing data for processing\n",
    "    X_train_norm, X_test_norm = standardizer(X_train, X_test)\n",
    "\n",
    "    classifiers = {'Angle-based Outlier Detector (ABOD)': ABOD(\n",
    "        contamination=outliers_fraction),\n",
    "        'Cluster-based Local Outlier Factor': CBLOF(\n",
    "            contamination=outliers_fraction, check_estimator=False,\n",
    "            random_state=random_state),\n",
    "        'Feature Bagging': FeatureBagging(contamination=outliers_fraction,\n",
    "                                          random_state=random_state),\n",
    "        'Histogram-base Outlier Detection (HBOS)': HBOS(\n",
    "            contamination=outliers_fraction),\n",
    "        'Isolation Forest': IForest(contamination=outliers_fraction,\n",
    "                                    random_state=random_state),\n",
    "        'K Nearest Neighbors (KNN)': KNN(contamination=outliers_fraction),\n",
    "        'Local Outlier Factor (LOF)': LOF(\n",
    "            contamination=outliers_fraction),\n",
    "        'Minimum Covariance Determinant (MCD)': MCD(\n",
    "            contamination=outliers_fraction, random_state=random_state),\n",
    "        'One-class SVM (OCSVM)': OCSVM(contamination=outliers_fraction),\n",
    "        'Principal Component Analysis (PCA)': PCA(\n",
    "            contamination=outliers_fraction, random_state=random_state),\n",
    "    }\n",
    "\n",
    "    for clf_name, clf in classifiers.items():\n",
    "        try:\n",
    "            t0 = time()\n",
    "            clf.fit(X_train_norm)\n",
    "            test_scores = clf.decision_function(X_test_norm)\n",
    "            t1 = time()\n",
    "            duration = round(t1 - t0, ndigits=4)\n",
    "            roc = round(roc_auc_score(y_test, test_scores), ndigits=4)\n",
    "            prn = round(precision_n_scores(y_test, test_scores), ndigits=4)\n",
    "        except Exception as e:\n",
    "            roc = 0\n",
    "            prn = 0\n",
    "            duration = 0\n",
    "\n",
    "        print('{clf_name} ROC:{roc}, precision @ rank n:{prn}, '\n",
    "              'execution time: {duration}s'.format(\n",
    "            clf_name=clf_name, roc=roc, prn=prn, duration=duration))\n",
    "        time_list.append(duration)\n",
    "        roc_list.append(roc)\n",
    "        prn_list.append(prn)\n",
    "\n",
    "    temp_df = pd.DataFrame(time_list).transpose()\n",
    "    temp_df.columns = df_columns\n",
    "    time_df = pd.concat([time_df, temp_df], axis=0)\n",
    "\n",
    "    temp_df = pd.DataFrame(roc_list).transpose()\n",
    "    temp_df.columns = df_columns\n",
    "    roc_df = pd.concat([roc_df, temp_df], axis=0)\n",
    "\n",
    "    temp_df = pd.DataFrame(prn_list).transpose()\n",
    "    temp_df.columns = df_columns\n",
    "    prn_df = pd.concat([prn_df, temp_df], axis=0)"
   ]
  },
  {
   "cell_type": "markdown",
   "metadata": {},
   "source": [
    "将结果导出保存为csv文件。"
   ]
  },
  {
   "cell_type": "code",
   "execution_count": null,
   "metadata": {},
   "outputs": [],
   "source": [
    "roc_df.to_csv('roc_df.csv', index=False)\n",
    "prn_df.to_csv('prn_df.csv', index=False)\n",
    "time_df.to_csv('time_df.csv', index=False)"
   ]
  },
  {
   "cell_type": "markdown",
   "metadata": {},
   "source": [
    "## 结果及分析"
   ]
  },
  {
   "cell_type": "markdown",
   "metadata": {},
   "source": [
    "### Abalone benchmarks"
   ]
  },
  {
   "cell_type": "code",
   "execution_count": 16,
   "metadata": {},
   "outputs": [],
   "source": [
    "abalone_roc_df = pd.read_csv('data/abalone_roc_df.csv',index_col = 'Data')\n",
    "abalone_prn_df = pd.read_csv('data/abalone_prn_df.csv',index_col = 'Data')\n",
    "abalone_time_df = pd.read_csv('data/abalone_time_df.csv',index_col = 'Data')"
   ]
  },
  {
   "cell_type": "markdown",
   "metadata": {},
   "source": [
    "#### Precision_N_Scores"
   ]
  },
  {
   "cell_type": "code",
   "execution_count": 17,
   "metadata": {},
   "outputs": [
    {
     "output_type": "execute_result",
     "data": {
      "text/plain": "      #Samples  # Dimensions  Outlier Perc    ABOD   CBLOF      FB    HBOS  \\\nData                                                                         \n1         1888             9       48.3581  0.6438  0.5620  0.5462  0.4776   \n2         1888             9       50.0000  0.6640  0.5079  0.5265  0.4921   \n3         1888             9       50.0000  0.6812  0.5784  0.6041  0.4072   \n4         1888             9       47.1928  0.6788  0.5335  0.5447  0.4721   \n5         1888             9       49.3644  0.6096  0.5169  0.5365  0.3848   \n\n      IForest     KNN     LOF     MCD   OCSVM     PCA  \nData                                                   \n1      0.4222  0.6755  0.5462  0.7124  0.4960  0.4697  \n2      0.4101  0.6587  0.5317  0.6772  0.4550  0.4603  \n3      0.4473  0.6864  0.6093  0.7044  0.4884  0.4447  \n4      0.4413  0.6732  0.5028  0.7123  0.4385  0.4358  \n5      0.4242  0.6404  0.5253  0.6601  0.4326  0.4129  ",
      "text/html": "<div>\n<style scoped>\n    .dataframe tbody tr th:only-of-type {\n        vertical-align: middle;\n    }\n\n    .dataframe tbody tr th {\n        vertical-align: top;\n    }\n\n    .dataframe thead th {\n        text-align: right;\n    }\n</style>\n<table border=\"1\" class=\"dataframe\">\n  <thead>\n    <tr style=\"text-align: right;\">\n      <th></th>\n      <th>#Samples</th>\n      <th># Dimensions</th>\n      <th>Outlier Perc</th>\n      <th>ABOD</th>\n      <th>CBLOF</th>\n      <th>FB</th>\n      <th>HBOS</th>\n      <th>IForest</th>\n      <th>KNN</th>\n      <th>LOF</th>\n      <th>MCD</th>\n      <th>OCSVM</th>\n      <th>PCA</th>\n    </tr>\n    <tr>\n      <th>Data</th>\n      <th></th>\n      <th></th>\n      <th></th>\n      <th></th>\n      <th></th>\n      <th></th>\n      <th></th>\n      <th></th>\n      <th></th>\n      <th></th>\n      <th></th>\n      <th></th>\n      <th></th>\n    </tr>\n  </thead>\n  <tbody>\n    <tr>\n      <th>1</th>\n      <td>1888</td>\n      <td>9</td>\n      <td>48.3581</td>\n      <td>0.6438</td>\n      <td>0.5620</td>\n      <td>0.5462</td>\n      <td>0.4776</td>\n      <td>0.4222</td>\n      <td>0.6755</td>\n      <td>0.5462</td>\n      <td>0.7124</td>\n      <td>0.4960</td>\n      <td>0.4697</td>\n    </tr>\n    <tr>\n      <th>2</th>\n      <td>1888</td>\n      <td>9</td>\n      <td>50.0000</td>\n      <td>0.6640</td>\n      <td>0.5079</td>\n      <td>0.5265</td>\n      <td>0.4921</td>\n      <td>0.4101</td>\n      <td>0.6587</td>\n      <td>0.5317</td>\n      <td>0.6772</td>\n      <td>0.4550</td>\n      <td>0.4603</td>\n    </tr>\n    <tr>\n      <th>3</th>\n      <td>1888</td>\n      <td>9</td>\n      <td>50.0000</td>\n      <td>0.6812</td>\n      <td>0.5784</td>\n      <td>0.6041</td>\n      <td>0.4072</td>\n      <td>0.4473</td>\n      <td>0.6864</td>\n      <td>0.6093</td>\n      <td>0.7044</td>\n      <td>0.4884</td>\n      <td>0.4447</td>\n    </tr>\n    <tr>\n      <th>4</th>\n      <td>1888</td>\n      <td>9</td>\n      <td>47.1928</td>\n      <td>0.6788</td>\n      <td>0.5335</td>\n      <td>0.5447</td>\n      <td>0.4721</td>\n      <td>0.4413</td>\n      <td>0.6732</td>\n      <td>0.5028</td>\n      <td>0.7123</td>\n      <td>0.4385</td>\n      <td>0.4358</td>\n    </tr>\n    <tr>\n      <th>5</th>\n      <td>1888</td>\n      <td>9</td>\n      <td>49.3644</td>\n      <td>0.6096</td>\n      <td>0.5169</td>\n      <td>0.5365</td>\n      <td>0.3848</td>\n      <td>0.4242</td>\n      <td>0.6404</td>\n      <td>0.5253</td>\n      <td>0.6601</td>\n      <td>0.4326</td>\n      <td>0.4129</td>\n    </tr>\n  </tbody>\n</table>\n</div>"
     },
     "metadata": {},
     "execution_count": 17
    }
   ],
   "source": [
    "abalone_prn_df.head()"
   ]
  },
  {
   "cell_type": "markdown",
   "metadata": {},
   "source": [
    "模型的平均准确率："
   ]
  },
  {
   "cell_type": "code",
   "execution_count": 18,
   "metadata": {},
   "outputs": [
    {
     "output_type": "execute_result",
     "data": {
      "text/plain": "KNN        0.417162\nMCD        0.374936\nOCSVM      0.372675\nFB         0.362493\nCBLOF      0.359890\nLOF        0.354568\nABOD       0.336974\nPCA        0.314957\nHBOS       0.309340\nIForest    0.292431\ndtype: float64"
     },
     "metadata": {},
     "execution_count": 18
    }
   ],
   "source": [
    "res = abalone_prn_df.loc[:,\"ABOD\":\"PCA\"].apply(lambda x: x.mean())\n",
    "res.sort_values(ascending=False)"
   ]
  },
  {
   "cell_type": "markdown",
   "metadata": {},
   "source": [
    "由以上结果可知，KNN的准确率最高，平均为0.417,其他的模型准确率结果在0.3-0.37之间"
   ]
  },
  {
   "cell_type": "markdown",
   "metadata": {},
   "source": [
    "#### ROC_AUC_Score"
   ]
  },
  {
   "cell_type": "code",
   "execution_count": 19,
   "metadata": {},
   "outputs": [
    {
     "output_type": "execute_result",
     "data": {
      "text/plain": "      #Samples  # Dimensions  Outlier Perc    ABOD   CBLOF      FB    HBOS  \\\nData                                                                         \n1         1888             9       48.3581  0.7144  0.5919  0.5696  0.4839   \n2         1888             9       50.0000  0.7427  0.5308  0.5321  0.4566   \n3         1888             9       50.0000  0.7414  0.6171  0.6115  0.3560   \n4         1888             9       47.1928  0.7562  0.5817  0.5744  0.5294   \n5         1888             9       49.3644  0.7097  0.5776  0.5802  0.3720   \n\n      IForest     KNN     LOF     MCD   OCSVM     PCA  \nData                                                   \n1      0.4096  0.7449  0.5617  0.7942  0.4871  0.4556  \n2      0.3959  0.7416  0.5299  0.7536  0.4536  0.4412  \n3      0.3996  0.7673  0.6114  0.7724  0.4896  0.4259  \n4      0.4602  0.7752  0.5429  0.8030  0.4766  0.4523  \n5      0.4365  0.7364  0.5785  0.7557  0.4628  0.4306  ",
      "text/html": "<div>\n<style scoped>\n    .dataframe tbody tr th:only-of-type {\n        vertical-align: middle;\n    }\n\n    .dataframe tbody tr th {\n        vertical-align: top;\n    }\n\n    .dataframe thead th {\n        text-align: right;\n    }\n</style>\n<table border=\"1\" class=\"dataframe\">\n  <thead>\n    <tr style=\"text-align: right;\">\n      <th></th>\n      <th>#Samples</th>\n      <th># Dimensions</th>\n      <th>Outlier Perc</th>\n      <th>ABOD</th>\n      <th>CBLOF</th>\n      <th>FB</th>\n      <th>HBOS</th>\n      <th>IForest</th>\n      <th>KNN</th>\n      <th>LOF</th>\n      <th>MCD</th>\n      <th>OCSVM</th>\n      <th>PCA</th>\n    </tr>\n    <tr>\n      <th>Data</th>\n      <th></th>\n      <th></th>\n      <th></th>\n      <th></th>\n      <th></th>\n      <th></th>\n      <th></th>\n      <th></th>\n      <th></th>\n      <th></th>\n      <th></th>\n      <th></th>\n      <th></th>\n    </tr>\n  </thead>\n  <tbody>\n    <tr>\n      <th>1</th>\n      <td>1888</td>\n      <td>9</td>\n      <td>48.3581</td>\n      <td>0.7144</td>\n      <td>0.5919</td>\n      <td>0.5696</td>\n      <td>0.4839</td>\n      <td>0.4096</td>\n      <td>0.7449</td>\n      <td>0.5617</td>\n      <td>0.7942</td>\n      <td>0.4871</td>\n      <td>0.4556</td>\n    </tr>\n    <tr>\n      <th>2</th>\n      <td>1888</td>\n      <td>9</td>\n      <td>50.0000</td>\n      <td>0.7427</td>\n      <td>0.5308</td>\n      <td>0.5321</td>\n      <td>0.4566</td>\n      <td>0.3959</td>\n      <td>0.7416</td>\n      <td>0.5299</td>\n      <td>0.7536</td>\n      <td>0.4536</td>\n      <td>0.4412</td>\n    </tr>\n    <tr>\n      <th>3</th>\n      <td>1888</td>\n      <td>9</td>\n      <td>50.0000</td>\n      <td>0.7414</td>\n      <td>0.6171</td>\n      <td>0.6115</td>\n      <td>0.3560</td>\n      <td>0.3996</td>\n      <td>0.7673</td>\n      <td>0.6114</td>\n      <td>0.7724</td>\n      <td>0.4896</td>\n      <td>0.4259</td>\n    </tr>\n    <tr>\n      <th>4</th>\n      <td>1888</td>\n      <td>9</td>\n      <td>47.1928</td>\n      <td>0.7562</td>\n      <td>0.5817</td>\n      <td>0.5744</td>\n      <td>0.5294</td>\n      <td>0.4602</td>\n      <td>0.7752</td>\n      <td>0.5429</td>\n      <td>0.8030</td>\n      <td>0.4766</td>\n      <td>0.4523</td>\n    </tr>\n    <tr>\n      <th>5</th>\n      <td>1888</td>\n      <td>9</td>\n      <td>49.3644</td>\n      <td>0.7097</td>\n      <td>0.5776</td>\n      <td>0.5802</td>\n      <td>0.3720</td>\n      <td>0.4365</td>\n      <td>0.7364</td>\n      <td>0.5785</td>\n      <td>0.7557</td>\n      <td>0.4628</td>\n      <td>0.4306</td>\n    </tr>\n  </tbody>\n</table>\n</div>"
     },
     "metadata": {},
     "execution_count": 19
    }
   ],
   "source": [
    "abalone_roc_df.head()"
   ]
  },
  {
   "cell_type": "markdown",
   "metadata": {},
   "source": [
    "模型的平均ROC/AUC值："
   ]
  },
  {
   "cell_type": "code",
   "execution_count": 20,
   "metadata": {},
   "outputs": [
    {
     "output_type": "execute_result",
     "data": {
      "text/plain": "MCD        0.825583\nKNN        0.814653\nABOD       0.786419\nFB         0.784686\nLOF        0.773893\nOCSVM      0.772424\nHBOS       0.753675\nCBLOF      0.741119\nPCA        0.723892\nIForest    0.720694\ndtype: float64"
     },
     "metadata": {},
     "execution_count": 20
    }
   ],
   "source": [
    "res = abalone_roc_df.loc[:,\"ABOD\":\"PCA\"].apply(lambda x: x.mean())\n",
    "res.sort_values(ascending=False)"
   ]
  },
  {
   "cell_type": "markdown",
   "metadata": {},
   "source": [
    "由以上结果可知，MCD的ROC值最高,为0.825, 紧跟其后的是KNN,结果为0.814。其余模型的结果都在0.7-0.8之间。"
   ]
  },
  {
   "cell_type": "markdown",
   "metadata": {},
   "source": [
    "#### 耗费时间"
   ]
  },
  {
   "cell_type": "code",
   "execution_count": 21,
   "metadata": {},
   "outputs": [
    {
     "output_type": "execute_result",
     "data": {
      "text/plain": "      #Samples  # Dimensions  Outlier Perc    ABOD   CBLOF      FB    HBOS  \\\nData                                                                         \n1         1888             9       48.3581  1.3896  1.3649  0.2370  0.9226   \n2         1888             9       50.0000  0.3568  0.1187  0.2375  0.0034   \n3         1888             9       50.0000  0.3394  0.1333  0.1918  0.0037   \n4         1888             9       47.1928  0.3189  0.1059  0.1855  0.0034   \n5         1888             9       49.3644  0.3918  0.0966  0.2057  0.0034   \n\n      IForest     KNN     LOF     MCD   OCSVM     PCA  \nData                                                   \n1      0.3102  0.0537  0.0218  0.9981  0.1099  0.0044  \n2      0.2763  0.0568  0.0243  0.8782  0.0830  0.0030  \n3      0.2854  0.0567  0.0235  0.9234  0.1017  0.0043  \n4      0.2805  0.0632  0.0284  0.9739  0.0855  0.0035  \n5      0.2744  0.0567  0.0230  0.8784  0.0837  0.0026  ",
      "text/html": "<div>\n<style scoped>\n    .dataframe tbody tr th:only-of-type {\n        vertical-align: middle;\n    }\n\n    .dataframe tbody tr th {\n        vertical-align: top;\n    }\n\n    .dataframe thead th {\n        text-align: right;\n    }\n</style>\n<table border=\"1\" class=\"dataframe\">\n  <thead>\n    <tr style=\"text-align: right;\">\n      <th></th>\n      <th>#Samples</th>\n      <th># Dimensions</th>\n      <th>Outlier Perc</th>\n      <th>ABOD</th>\n      <th>CBLOF</th>\n      <th>FB</th>\n      <th>HBOS</th>\n      <th>IForest</th>\n      <th>KNN</th>\n      <th>LOF</th>\n      <th>MCD</th>\n      <th>OCSVM</th>\n      <th>PCA</th>\n    </tr>\n    <tr>\n      <th>Data</th>\n      <th></th>\n      <th></th>\n      <th></th>\n      <th></th>\n      <th></th>\n      <th></th>\n      <th></th>\n      <th></th>\n      <th></th>\n      <th></th>\n      <th></th>\n      <th></th>\n      <th></th>\n    </tr>\n  </thead>\n  <tbody>\n    <tr>\n      <th>1</th>\n      <td>1888</td>\n      <td>9</td>\n      <td>48.3581</td>\n      <td>1.3896</td>\n      <td>1.3649</td>\n      <td>0.2370</td>\n      <td>0.9226</td>\n      <td>0.3102</td>\n      <td>0.0537</td>\n      <td>0.0218</td>\n      <td>0.9981</td>\n      <td>0.1099</td>\n      <td>0.0044</td>\n    </tr>\n    <tr>\n      <th>2</th>\n      <td>1888</td>\n      <td>9</td>\n      <td>50.0000</td>\n      <td>0.3568</td>\n      <td>0.1187</td>\n      <td>0.2375</td>\n      <td>0.0034</td>\n      <td>0.2763</td>\n      <td>0.0568</td>\n      <td>0.0243</td>\n      <td>0.8782</td>\n      <td>0.0830</td>\n      <td>0.0030</td>\n    </tr>\n    <tr>\n      <th>3</th>\n      <td>1888</td>\n      <td>9</td>\n      <td>50.0000</td>\n      <td>0.3394</td>\n      <td>0.1333</td>\n      <td>0.1918</td>\n      <td>0.0037</td>\n      <td>0.2854</td>\n      <td>0.0567</td>\n      <td>0.0235</td>\n      <td>0.9234</td>\n      <td>0.1017</td>\n      <td>0.0043</td>\n    </tr>\n    <tr>\n      <th>4</th>\n      <td>1888</td>\n      <td>9</td>\n      <td>47.1928</td>\n      <td>0.3189</td>\n      <td>0.1059</td>\n      <td>0.1855</td>\n      <td>0.0034</td>\n      <td>0.2805</td>\n      <td>0.0632</td>\n      <td>0.0284</td>\n      <td>0.9739</td>\n      <td>0.0855</td>\n      <td>0.0035</td>\n    </tr>\n    <tr>\n      <th>5</th>\n      <td>1888</td>\n      <td>9</td>\n      <td>49.3644</td>\n      <td>0.3918</td>\n      <td>0.0966</td>\n      <td>0.2057</td>\n      <td>0.0034</td>\n      <td>0.2744</td>\n      <td>0.0567</td>\n      <td>0.0230</td>\n      <td>0.8784</td>\n      <td>0.0837</td>\n      <td>0.0026</td>\n    </tr>\n  </tbody>\n</table>\n</div>"
     },
     "metadata": {},
     "execution_count": 21
    }
   ],
   "source": [
    "abalone_time_df.head()"
   ]
  },
  {
   "cell_type": "markdown",
   "metadata": {},
   "source": [
    "平均耗费时间："
   ]
  },
  {
   "cell_type": "code",
   "execution_count": 22,
   "metadata": {},
   "outputs": [
    {
     "output_type": "execute_result",
     "data": {
      "text/plain": "MCD        0.963553\nFB         0.450495\nABOD       0.324901\nIForest    0.257274\nCBLOF      0.112568\nOCSVM      0.089059\nKNN        0.084967\nLOF        0.056097\nHBOS       0.005670\nPCA        0.003200\ndtype: float64"
     },
     "metadata": {},
     "execution_count": 22
    }
   ],
   "source": [
    "res = abalone_time_df.loc[:,\"ABOD\":\"PCA\"].apply(lambda x: x.mean())\n",
    "res.sort_values(ascending=False)"
   ]
  },
  {
   "cell_type": "markdown",
   "metadata": {},
   "source": [
    "由以上结果可知，MCD花费的时间最长，为0.963，其花费的时间最长，而对应的ROC也是最高的。而PCA所耗费的时间最少，KNN所耗费时间也较低，为0.089。  \n",
    "由此可见，KNN的效率相对来说非常高，在较短的时间内，能获得较高的精确度。而MCD做为ROC值最高的模型，相对其耗费时间也是最高的。"
   ]
  },
  {
   "cell_type": "markdown",
   "metadata": {},
   "source": [
    "### Fault benchmarks"
   ]
  }
 ],
 "metadata": {
  "language_info": {
   "codemirror_mode": {
    "name": "ipython",
    "version": 3
   },
   "file_extension": ".py",
   "mimetype": "text/x-python",
   "name": "python",
   "nbconvert_exporter": "python",
   "pygments_lexer": "ipython3",
   "version": "3.6.9-final"
  },
  "orig_nbformat": 2,
  "kernelspec": {
   "name": "python3",
   "display_name": "Python 3"
  }
 },
 "nbformat": 4,
 "nbformat_minor": 2
}