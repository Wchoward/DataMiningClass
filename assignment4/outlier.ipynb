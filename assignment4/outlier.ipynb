{
 "cells": [
  {
   "cell_type": "markdown",
   "metadata": {},
   "source": [
    "# 离群点分析与异常检测\n",
    "仓库地址为：https://github.com/Wchoward/DataMiningClass/tree/master/assignment4"
   ]
  },
  {
   "cell_type": "code",
   "execution_count": null,
   "metadata": {},
   "outputs": [],
   "source": [
    "from __future__ import division\n",
    "from __future__ import print_function\n",
    "\n",
    "import os\n",
    "import sys\n",
    "from time import time\n",
    "\n",
    "# temporary solution for relative imports in case pyod is not installed\n",
    "# if pyod is installed, no need to use the following line\n",
    "sys.path.append(\n",
    "    os.path.abspath(os.path.join(os.path.dirname(\"__file__\"), '..')))\n",
    "# supress warnings for clean output\n",
    "import warnings\n",
    "\n",
    "warnings.filterwarnings(\"ignore\")\n",
    "\n",
    "import numpy as np\n",
    "import pandas as pd\n",
    "from sklearn.model_selection import train_test_split\n",
    "\n",
    "from pyod.models.abod import ABOD\n",
    "from pyod.models.cblof import CBLOF\n",
    "from pyod.models.feature_bagging import FeatureBagging\n",
    "from pyod.models.hbos import HBOS\n",
    "from pyod.models.iforest import IForest\n",
    "from pyod.models.knn import KNN\n",
    "from pyod.models.lof import LOF\n",
    "from pyod.models.mcd import MCD\n",
    "from pyod.models.ocsvm import OCSVM\n",
    "from pyod.models.pca import PCA\n",
    "\n",
    "from pyod.utils.utility import standardizer\n",
    "from pyod.utils.utility import precision_n_scores\n",
    "from sklearn.metrics import roc_auc_score"
   ]
  },
  {
   "cell_type": "code",
   "execution_count": null,
   "metadata": {},
   "outputs": [],
   "source": [
    "def get_dir_filelist(dir):\n",
    "    filelst = [os.path.join(dir, file) for file in os.listdir(dir)]\n",
    "    return filelst"
   ]
  },
  {
   "cell_type": "markdown",
   "metadata": {},
   "source": [
    "## 模型及代码\n",
    "### 数据获取"
   ]
  },
  {
   "cell_type": "markdown",
   "metadata": {},
   "source": [
    "获取数据文件列表并排序，并创建roc_df, prn_df, time_df分别用来对roc_auc_score, precision_n_scores和耗费时间 进行存储。"
   ]
  },
  {
   "cell_type": "code",
   "execution_count": null,
   "metadata": {},
   "outputs": [],
   "source": [
    "file_list = get_dir_filelist('../../data/abalone/benchmarks')\n",
    "file_list.sort()\n",
    "# Define nine outlier detection tools to be compared\n",
    "random_state = np.random.RandomState(42)\n",
    "\n",
    "df_columns = ['Data', '#Samples', '# Dimensions', 'Outlier Perc',\n",
    "              'ABOD', 'CBLOF', 'FB', 'HBOS', 'IForest', 'KNN', 'LOF', 'MCD',\n",
    "              'OCSVM', 'PCA']\n",
    "roc_df = pd.DataFrame(columns=df_columns)\n",
    "prn_df = pd.DataFrame(columns=df_columns)\n",
    "time_df = pd.DataFrame(columns=df_columns)"
   ]
  },
  {
   "cell_type": "markdown",
   "metadata": {},
   "source": [
    "对文件列表中的每个文件进行离群点检测，采用[Python Outlier Detection (PyOD)](https://github.com/yzhao062/pyod)工具包进行离群点检测分析，使用的模型包含：  \n",
    "- Angle-based Outlier Detector (ABOD)\n",
    "- Cluster-based Local Outlier Factor\n",
    "- Feature Bagging\n",
    "- Histogram-base Outlier Detection (HBOS)\n",
    "- Isolation Forest\n",
    "- K Nearest Neighbors (KNN)\n",
    "- Local Outlier Factor (LOF)\n",
    "- Minimum Covariance Determinant (MCD)\n",
    "- One-class SVM (OCSVM)\n",
    "- Principal Component Analysis (PCA)\n"
   ]
  },
  {
   "cell_type": "code",
   "execution_count": null,
   "metadata": {},
   "outputs": [],
   "source": [
    "for file in file_list:\n",
    "    print('----------')\n",
    "    print('processing file '+ file[-8:-4])\n",
    "    print('----------')\n",
    "    df = pd.read_csv(file)\n",
    "    x = df.drop(['ground.truth','point.id','motherset','origin'],axis = 1).values\n",
    "    y = df['ground.truth'].values\n",
    "    y = [0 if i == 'nominal' else 1 for i in y]\n",
    "    \n",
    "    outliers_fraction = min(np.count_nonzero(y) / len(y),0.5)\n",
    "    outliers_percentage = round(outliers_fraction * 100, ndigits=4)\n",
    "\n",
    "    # construct containers for saving results\n",
    "    roc_list = [file[-8:-4], x.shape[0], x.shape[1], outliers_percentage]\n",
    "    prn_list = [file[-8:-4], x.shape[0], x.shape[1], outliers_percentage]\n",
    "    time_list = [file[-8:-4], x.shape[0], x.shape[1], outliers_percentage]\n",
    "    \n",
    "    # 60% data for training and 40% for testing\n",
    "    X_train, X_test, y_train, y_test = train_test_split(x, y, test_size=0.4,\n",
    "                                                        random_state=random_state)\n",
    "\n",
    "    # standardizing data for processing\n",
    "    X_train_norm, X_test_norm = standardizer(X_train, X_test)\n",
    "\n",
    "    classifiers = {'Angle-based Outlier Detector (ABOD)': ABOD(\n",
    "        contamination=outliers_fraction),\n",
    "        'Cluster-based Local Outlier Factor': CBLOF(\n",
    "            contamination=outliers_fraction, check_estimator=False,\n",
    "            random_state=random_state),\n",
    "        'Feature Bagging': FeatureBagging(contamination=outliers_fraction,\n",
    "                                          random_state=random_state),\n",
    "        'Histogram-base Outlier Detection (HBOS)': HBOS(\n",
    "            contamination=outliers_fraction),\n",
    "        'Isolation Forest': IForest(contamination=outliers_fraction,\n",
    "                                    random_state=random_state),\n",
    "        'K Nearest Neighbors (KNN)': KNN(contamination=outliers_fraction),\n",
    "        'Local Outlier Factor (LOF)': LOF(\n",
    "            contamination=outliers_fraction),\n",
    "        'Minimum Covariance Determinant (MCD)': MCD(\n",
    "            contamination=outliers_fraction, random_state=random_state),\n",
    "        'One-class SVM (OCSVM)': OCSVM(contamination=outliers_fraction),\n",
    "        'Principal Component Analysis (PCA)': PCA(\n",
    "            contamination=outliers_fraction, random_state=random_state),\n",
    "    }\n",
    "\n",
    "    for clf_name, clf in classifiers.items():\n",
    "        try:\n",
    "            t0 = time()\n",
    "            clf.fit(X_train_norm)\n",
    "            test_scores = clf.decision_function(X_test_norm)\n",
    "            t1 = time()\n",
    "            duration = round(t1 - t0, ndigits=4)\n",
    "            roc = round(roc_auc_score(y_test, test_scores), ndigits=4)\n",
    "            prn = round(precision_n_scores(y_test, test_scores), ndigits=4)\n",
    "        except Exception as e:\n",
    "            roc = 0\n",
    "            prn = 0\n",
    "            duration = 0\n",
    "\n",
    "        print('{clf_name} ROC:{roc}, precision @ rank n:{prn}, '\n",
    "              'execution time: {duration}s'.format(\n",
    "            clf_name=clf_name, roc=roc, prn=prn, duration=duration))\n",
    "        time_list.append(duration)\n",
    "        roc_list.append(roc)\n",
    "        prn_list.append(prn)\n",
    "\n",
    "    temp_df = pd.DataFrame(time_list).transpose()\n",
    "    temp_df.columns = df_columns\n",
    "    time_df = pd.concat([time_df, temp_df], axis=0)\n",
    "\n",
    "    temp_df = pd.DataFrame(roc_list).transpose()\n",
    "    temp_df.columns = df_columns\n",
    "    roc_df = pd.concat([roc_df, temp_df], axis=0)\n",
    "\n",
    "    temp_df = pd.DataFrame(prn_list).transpose()\n",
    "    temp_df.columns = df_columns\n",
    "    prn_df = pd.concat([prn_df, temp_df], axis=0)"
   ]
  },
  {
   "cell_type": "markdown",
   "metadata": {},
   "source": [
    "将结果导出保存为csv文件。"
   ]
  },
  {
   "cell_type": "code",
   "execution_count": null,
   "metadata": {},
   "outputs": [],
   "source": [
    "roc_df.to_csv('roc_df.csv')\n",
    "prn_df.to_csv('prn_df.csv')\n",
    "time_df.to_csv('time_df.csv')"
   ]
  },
  {
   "cell_type": "markdown",
   "metadata": {},
   "source": [
    "## 结果及分析"
   ]
  },
  {
   "cell_type": "code",
   "execution_count": null,
   "metadata": {},
   "outputs": [],
   "source": [
    "### "
   ]
  }
 ],
 "metadata": {
  "language_info": {
   "codemirror_mode": {
    "name": "ipython",
    "version": 3
   },
   "file_extension": ".py",
   "mimetype": "text/x-python",
   "name": "python",
   "nbconvert_exporter": "python",
   "pygments_lexer": "ipython3",
   "version": "3.6.9-final"
  },
  "orig_nbformat": 2,
  "kernelspec": {
   "name": "python36964bittensorflowconda0768426cf85c4c639c5d84af9151c906",
   "display_name": "Python 3.6.9 64-bit ('tensorflow': conda)"
  }
 },
 "nbformat": 4,
 "nbformat_minor": 2
}