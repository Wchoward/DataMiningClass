{
 "cells": [
  {
   "cell_type": "markdown",
   "metadata": {},
   "source": [
    "# Oakland Crime 探索性分析与预处理报告"
   ]
  },
  {
   "cell_type": "code",
   "execution_count": 1,
   "metadata": {},
   "outputs": [],
   "source": [
    "%matplotlib inline\n",
    "import pandas as pd\n",
    "import json\n",
    "import numpy as np\n",
    "from matplotlib import pyplot as plt\n",
    "import crime_process"
   ]
  },
  {
   "cell_type": "markdown",
   "metadata": {},
   "source": [
    "确定数据集根目录："
   ]
  },
  {
   "cell_type": "code",
   "execution_count": 2,
   "metadata": {},
   "outputs": [],
   "source": [
    "root = 'data/oakland-crime-statistics-2011-to-2016/'\n",
    "file_lst = ['records-for-' + str(x) + '.csv' for x in range(2011,2017)]"
   ]
  },
  {
   "cell_type": "markdown",
   "metadata": {},
   "source": [
    "导入数据："
   ]
  },
  {
   "cell_type": "code",
   "execution_count": 3,
   "metadata": {},
   "outputs": [
    {
     "data": {
      "text/html": [
       "<div>\n",
       "<style scoped>\n",
       "    .dataframe tbody tr th:only-of-type {\n",
       "        vertical-align: middle;\n",
       "    }\n",
       "\n",
       "    .dataframe tbody tr th {\n",
       "        vertical-align: top;\n",
       "    }\n",
       "\n",
       "    .dataframe thead th {\n",
       "        text-align: right;\n",
       "    }\n",
       "</style>\n",
       "<table border=\"1\" class=\"dataframe\">\n",
       "  <thead>\n",
       "    <tr style=\"text-align: right;\">\n",
       "      <th></th>\n",
       "      <th>Agency</th>\n",
       "      <th>Create Time</th>\n",
       "      <th>Location</th>\n",
       "      <th>Area Id</th>\n",
       "      <th>Beat</th>\n",
       "      <th>Priority</th>\n",
       "      <th>Incident Type Id</th>\n",
       "      <th>Incident Type Description</th>\n",
       "      <th>Event Number</th>\n",
       "      <th>Closed Time</th>\n",
       "    </tr>\n",
       "  </thead>\n",
       "  <tbody>\n",
       "    <tr>\n",
       "      <th>0</th>\n",
       "      <td>OP</td>\n",
       "      <td>2011-01-01T00:00:00.000</td>\n",
       "      <td>ST&amp;SAN PABLO AV</td>\n",
       "      <td>1</td>\n",
       "      <td>06X</td>\n",
       "      <td>1</td>\n",
       "      <td>PDOA</td>\n",
       "      <td>POSSIBLE DEAD PERSON</td>\n",
       "      <td>LOP110101000001</td>\n",
       "      <td>2011-01-01T00:28:17.000</td>\n",
       "    </tr>\n",
       "    <tr>\n",
       "      <th>1</th>\n",
       "      <td>OP</td>\n",
       "      <td>2011-01-01T00:01:11.000</td>\n",
       "      <td>ST&amp;HANNAH ST</td>\n",
       "      <td>1</td>\n",
       "      <td>07X</td>\n",
       "      <td>1</td>\n",
       "      <td>415GS</td>\n",
       "      <td>415 GUNSHOTS</td>\n",
       "      <td>LOP110101000002</td>\n",
       "      <td>2011-01-01T01:12:56.000</td>\n",
       "    </tr>\n",
       "    <tr>\n",
       "      <th>2</th>\n",
       "      <td>OP</td>\n",
       "      <td>2011-01-01T00:01:25.000</td>\n",
       "      <td>ST&amp;MARKET ST</td>\n",
       "      <td>1</td>\n",
       "      <td>10Y</td>\n",
       "      <td>2</td>\n",
       "      <td>415GS</td>\n",
       "      <td>415 GUNSHOTS</td>\n",
       "      <td>LOP110101000003</td>\n",
       "      <td>2011-01-01T00:07:20.000</td>\n",
       "    </tr>\n",
       "    <tr>\n",
       "      <th>3</th>\n",
       "      <td>OP</td>\n",
       "      <td>2011-01-01T00:01:35.000</td>\n",
       "      <td>PRENTISS ST</td>\n",
       "      <td>2</td>\n",
       "      <td>21Y</td>\n",
       "      <td>2</td>\n",
       "      <td>415GS</td>\n",
       "      <td>415 GUNSHOTS</td>\n",
       "      <td>LOP110101000005</td>\n",
       "      <td>2011-01-01T00:02:28.000</td>\n",
       "    </tr>\n",
       "    <tr>\n",
       "      <th>4</th>\n",
       "      <td>OP</td>\n",
       "      <td>2011-01-01T00:02:10.000</td>\n",
       "      <td>AV&amp;FOOTHILL BLVD</td>\n",
       "      <td>2</td>\n",
       "      <td>20X</td>\n",
       "      <td>1</td>\n",
       "      <td>415GS</td>\n",
       "      <td>415 GUNSHOTS</td>\n",
       "      <td>LOP110101000004</td>\n",
       "      <td>2011-01-01T00:50:04.000</td>\n",
       "    </tr>\n",
       "    <tr>\n",
       "      <th>...</th>\n",
       "      <td>...</td>\n",
       "      <td>...</td>\n",
       "      <td>...</td>\n",
       "      <td>...</td>\n",
       "      <td>...</td>\n",
       "      <td>...</td>\n",
       "      <td>...</td>\n",
       "      <td>...</td>\n",
       "      <td>...</td>\n",
       "      <td>...</td>\n",
       "    </tr>\n",
       "    <tr>\n",
       "      <th>180011</th>\n",
       "      <td>OP</td>\n",
       "      <td>2011-12-31T23:52:15.000</td>\n",
       "      <td>WB 26TH AV</td>\n",
       "      <td>2</td>\n",
       "      <td>21X</td>\n",
       "      <td>2</td>\n",
       "      <td>415GS</td>\n",
       "      <td>415 GUNSHOTS</td>\n",
       "      <td>LOP111231001014</td>\n",
       "      <td>2012-01-01T01:40:10.000</td>\n",
       "    </tr>\n",
       "    <tr>\n",
       "      <th>180012</th>\n",
       "      <td>OP</td>\n",
       "      <td>2011-12-31T23:53:59.000</td>\n",
       "      <td>WERNER 40TH STREET WY</td>\n",
       "      <td>1</td>\n",
       "      <td>09X</td>\n",
       "      <td>1</td>\n",
       "      <td>PDOA</td>\n",
       "      <td>POSSIBLE DEAD PERSON</td>\n",
       "      <td>LOP111231001015</td>\n",
       "      <td>2012-01-01T02:30:22.000</td>\n",
       "    </tr>\n",
       "    <tr>\n",
       "      <th>180013</th>\n",
       "      <td>OP</td>\n",
       "      <td>2011-12-31T23:55:52.000</td>\n",
       "      <td>WOOD AV&amp;KEMPTON AV</td>\n",
       "      <td>1</td>\n",
       "      <td>08X</td>\n",
       "      <td>1</td>\n",
       "      <td>918</td>\n",
       "      <td>PERSON SCREAMING</td>\n",
       "      <td>LOP111231001016</td>\n",
       "      <td>2012-01-01T00:25:03.000</td>\n",
       "    </tr>\n",
       "    <tr>\n",
       "      <th>180014</th>\n",
       "      <td>OP</td>\n",
       "      <td>2011-12-31T23:58:08.000</td>\n",
       "      <td>WOODSON B ST</td>\n",
       "      <td>2</td>\n",
       "      <td>33X</td>\n",
       "      <td>2</td>\n",
       "      <td>415GS</td>\n",
       "      <td>415 GUNSHOTS</td>\n",
       "      <td>LOP111231001017</td>\n",
       "      <td>2012-01-01T02:59:48.000</td>\n",
       "    </tr>\n",
       "    <tr>\n",
       "      <th>180015</th>\n",
       "      <td></td>\n",
       "      <td></td>\n",
       "      <td></td>\n",
       "      <td></td>\n",
       "      <td></td>\n",
       "      <td></td>\n",
       "      <td></td>\n",
       "      <td></td>\n",
       "      <td></td>\n",
       "      <td></td>\n",
       "    </tr>\n",
       "  </tbody>\n",
       "</table>\n",
       "<p>180016 rows × 10 columns</p>\n",
       "</div>"
      ],
      "text/plain": [
       "       Agency              Create Time               Location Area Id Beat  \\\n",
       "0          OP  2011-01-01T00:00:00.000        ST&SAN PABLO AV       1  06X   \n",
       "1          OP  2011-01-01T00:01:11.000          ST&HANNAH ST        1  07X   \n",
       "2          OP  2011-01-01T00:01:25.000          ST&MARKET ST        1  10Y   \n",
       "3          OP  2011-01-01T00:01:35.000           PRENTISS ST        2  21Y   \n",
       "4          OP  2011-01-01T00:02:10.000      AV&FOOTHILL BLVD        2  20X   \n",
       "...       ...                      ...                    ...     ...  ...   \n",
       "180011     OP  2011-12-31T23:52:15.000            WB 26TH AV        2  21X   \n",
       "180012     OP  2011-12-31T23:53:59.000  WERNER 40TH STREET WY       1  09X   \n",
       "180013     OP  2011-12-31T23:55:52.000    WOOD AV&KEMPTON AV        1  08X   \n",
       "180014     OP  2011-12-31T23:58:08.000          WOODSON B ST        2  33X   \n",
       "180015                                                                       \n",
       "\n",
       "       Priority Incident Type Id Incident Type Description     Event Number  \\\n",
       "0             1             PDOA      POSSIBLE DEAD PERSON  LOP110101000001   \n",
       "1             1            415GS              415 GUNSHOTS  LOP110101000002   \n",
       "2             2            415GS              415 GUNSHOTS  LOP110101000003   \n",
       "3             2            415GS              415 GUNSHOTS  LOP110101000005   \n",
       "4             1            415GS              415 GUNSHOTS  LOP110101000004   \n",
       "...         ...              ...                       ...              ...   \n",
       "180011        2            415GS              415 GUNSHOTS  LOP111231001014   \n",
       "180012        1             PDOA      POSSIBLE DEAD PERSON  LOP111231001015   \n",
       "180013        1              918          PERSON SCREAMING  LOP111231001016   \n",
       "180014        2            415GS              415 GUNSHOTS  LOP111231001017   \n",
       "180015                                                                        \n",
       "\n",
       "                    Closed Time  \n",
       "0       2011-01-01T00:28:17.000  \n",
       "1       2011-01-01T01:12:56.000  \n",
       "2       2011-01-01T00:07:20.000  \n",
       "3       2011-01-01T00:02:28.000  \n",
       "4       2011-01-01T00:50:04.000  \n",
       "...                         ...  \n",
       "180011  2012-01-01T01:40:10.000  \n",
       "180012  2012-01-01T02:30:22.000  \n",
       "180013  2012-01-01T00:25:03.000  \n",
       "180014  2012-01-01T02:59:48.000  \n",
       "180015                           \n",
       "\n",
       "[180016 rows x 10 columns]"
      ]
     },
     "execution_count": 3,
     "metadata": {},
     "output_type": "execute_result"
    }
   ],
   "source": [
    "crime = crime_process.crime_data(root, file_lst)\n",
    "crime_data = crime.data\n",
    "crime_data[0]"
   ]
  },
  {
   "cell_type": "markdown",
   "metadata": {},
   "source": [
    "数据包含：  \n",
    "1. Agency                      机构名称，除缺失值外，只有唯一值OP\n",
    "2. Create Time                 案件创建时间\n",
    "3. Location                    案件发生地点\n",
    "4. Area Id                     案件发生地区代码\n",
    "5. Beat                        案件发生的巡逻区域\n",
    "6. Priority                    优先级\n",
    "7. Incident Type Id            案件类型ID\n",
    "8. Incident Type Description   案件类型描述\n",
    "9. Event Number                案件标号\n",
    "10. Closed Time                案件结束时间"
   ]
  },
  {
   "cell_type": "markdown",
   "metadata": {},
   "source": [
    "### Agency"
   ]
  },
  {
   "cell_type": "markdown",
   "metadata": {},
   "source": [
    "查找缺失值个数:"
   ]
  },
  {
   "cell_type": "code",
   "execution_count": 4,
   "metadata": {
    "scrolled": true
   },
   "outputs": [
    {
     "name": "stdout",
     "output_type": "stream",
     "text": [
      "2011 : 1\n",
      "2012 : 1\n",
      "2013 : 1\n",
      "2014 : 0\n",
      "2015 : 0\n",
      "2016 : 1\n"
     ]
    }
   ],
   "source": [
    "crime.select_col('Agency')\n",
    "none_before = crime.count_none()"
   ]
  },
  {
   "cell_type": "code",
   "execution_count": 5,
   "metadata": {},
   "outputs": [
    {
     "name": "stdout",
     "output_type": "stream",
     "text": [
      "[array(['', '', '   ', '', '', '', '', '', '', ''], dtype=object)]\n",
      "[array(['', '', '', '', '', '', '', '', '', '', ''], dtype=object)]\n",
      "[array(['', '', '      ', '', '', '', '', '', '', ''], dtype=object)]\n",
      "[array(['', '', '      ', '', '', '', '', '', '', ''], dtype=object)]\n"
     ]
    }
   ],
   "source": [
    "index11,row11 = crime.get_row_index(0, '')\n",
    "index12,row12 = crime.get_row_index(1, '')\n",
    "index13,row13 = crime.get_row_index(2, '')\n",
    "index16,row16 = crime.get_row_index(5, '')\n",
    "print(row11)\n",
    "print(row12)\n",
    "print(row13)\n",
    "print(row16)"
   ]
  },
  {
   "cell_type": "markdown",
   "metadata": {},
   "source": [
    "缺失值整行为空，直接删除即可。"
   ]
  },
  {
   "cell_type": "code",
   "execution_count": 6,
   "metadata": {},
   "outputs": [
    {
     "name": "stdout",
     "output_type": "stream",
     "text": [
      "2011 : 0\n",
      "2012 : 0\n",
      "2013 : 0\n",
      "2014 : 0\n",
      "2015 : 0\n",
      "2016 : 0\n"
     ]
    }
   ],
   "source": [
    "crime.delete_row(0,index11)\n",
    "crime.delete_row(1,index12)\n",
    "crime.delete_row(2,index13)\n",
    "crime.delete_row(5,index16)\n",
    "none_after = crime.count_none()"
   ]
  },
  {
   "cell_type": "markdown",
   "metadata": {},
   "source": [
    "缺失值处理前后对比："
   ]
  },
  {
   "cell_type": "code",
   "execution_count": 7,
   "metadata": {
    "scrolled": true
   },
   "outputs": [
    {
     "data": {
      "image/png": "[encoded data removed]",
      "text/plain": [
       "<Figure size 864x288 with 2 Axes>"
      ]
     },
     "metadata": {
      "needs_background": "light"
     },
     "output_type": "display_data"
    }
   ],
   "source": [
    "#2011年\n",
    "crime.normal_bar(0,12,4,none_before[0],none_after[0],['OP','null'])"
   ]
  },
  {
   "cell_type": "code",
   "execution_count": 8,
   "metadata": {
    "scrolled": true
   },
   "outputs": [
    {
     "data": {
      "image/png": "[encoded data removed]",
      "text/plain": [
       "<Figure size 864x288 with 2 Axes>"
      ]
     },
     "metadata": {
      "needs_background": "light"
     },
     "output_type": "display_data"
    }
   ],
   "source": [
    "#2012年\n",
    "crime.normal_bar(1,12,4,none_before[0],none_after[0],['OP','null'])"
   ]
  },
  {
   "cell_type": "code",
   "execution_count": 9,
   "metadata": {
    "scrolled": true
   },
   "outputs": [
    {
     "data": {
      "image/png": "[encoded data removed]",
      "text/plain": [
       "<Figure size 864x288 with 2 Axes>"
      ]
     },
     "metadata": {
      "needs_background": "light"
     },
     "output_type": "display_data"
    }
   ],
   "source": [
    "#2013年\n",
    "crime.normal_bar(2,12,4,none_before[0],none_after[0],['OP','null'])"
   ]
  },
  {
   "cell_type": "code",
   "execution_count": 10,
   "metadata": {
    "scrolled": true
   },
   "outputs": [
    {
     "data": {
      "image/png": "[encoded data removed]",
      "text/plain": [
       "<Figure size 864x288 with 2 Axes>"
      ]
     },
     "metadata": {
      "needs_background": "light"
     },
     "output_type": "display_data"
    }
   ],
   "source": [
    "#2016年\n",
    "crime.normal_bar(5,12,4,none_before[0],none_after[0],['OP','null'])"
   ]
  },
  {
   "cell_type": "markdown",
   "metadata": {},
   "source": [
    "### 案件持续时间\n",
    "使用__Closed Time - Create Time__得到"
   ]
  },
  {
   "cell_type": "markdown",
   "metadata": {},
   "source": [
    "查找缺失值："
   ]
  },
  {
   "cell_type": "code",
   "execution_count": 11,
   "metadata": {},
   "outputs": [
    {
     "name": "stdout",
     "output_type": "stream",
     "text": [
      "2011 : 6\n",
      "2012 : 18\n",
      "2013 : 1\n",
      "2014 : 0\n",
      "2015 : 0\n",
      "2016 : 0\n"
     ]
    },
    {
     "data": {
      "text/plain": [
       "[6, 18, 1, 0, 0, 0]"
      ]
     },
     "execution_count": 11,
     "metadata": {},
     "output_type": "execute_result"
    }
   ],
   "source": [
    "crime.select_col('Closed Time')\n",
    "crime.count_none('')"
   ]
  },
  {
   "cell_type": "code",
   "execution_count": 12,
   "metadata": {},
   "outputs": [],
   "source": [
    "index11,row11 = crime.get_row_index(0, '')\n",
    "index12,row12 = crime.get_row_index(1, '')\n",
    "index13,row13 = crime.get_row_index(2, '')"
   ]
  },
  {
   "cell_type": "markdown",
   "metadata": {},
   "source": [
    "close time存在缺失值，可能是未结案或未录入时间。  \n",
    "处理方式： 删除这些记录"
   ]
  },
  {
   "cell_type": "code",
   "execution_count": 13,
   "metadata": {},
   "outputs": [
    {
     "name": "stdout",
     "output_type": "stream",
     "text": [
      "2011 : 0\n",
      "2012 : 0\n",
      "2013 : 0\n",
      "2014 : 0\n",
      "2015 : 0\n",
      "2016 : 0\n"
     ]
    }
   ],
   "source": [
    "crime.delete_row(0,index11)\n",
    "crime.delete_row(1,index12)\n",
    "crime.delete_row(2,index13)\n",
    "none_after = crime.count_none()"
   ]
  },
  {
   "cell_type": "markdown",
   "metadata": {},
   "source": [
    "__构造案件持续时间列：__"
   ]
  },
  {
   "cell_type": "code",
   "execution_count": 14,
   "metadata": {},
   "outputs": [
    {
     "data": {
      "text/html": [
       "<div>\n",
       "<style scoped>\n",
       "    .dataframe tbody tr th:only-of-type {\n",
       "        vertical-align: middle;\n",
       "    }\n",
       "\n",
       "    .dataframe tbody tr th {\n",
       "        vertical-align: top;\n",
       "    }\n",
       "\n",
       "    .dataframe thead th {\n",
       "        text-align: right;\n",
       "    }\n",
       "</style>\n",
       "<table border=\"1\" class=\"dataframe\">\n",
       "  <thead>\n",
       "    <tr style=\"text-align: right;\">\n",
       "      <th></th>\n",
       "      <th>Agency</th>\n",
       "      <th>Create Time</th>\n",
       "      <th>Location</th>\n",
       "      <th>Area Id</th>\n",
       "      <th>Beat</th>\n",
       "      <th>Priority</th>\n",
       "      <th>Incident Type Id</th>\n",
       "      <th>Incident Type Description</th>\n",
       "      <th>Event Number</th>\n",
       "      <th>Closed Time</th>\n",
       "      <th>duration</th>\n",
       "    </tr>\n",
       "  </thead>\n",
       "  <tbody>\n",
       "    <tr>\n",
       "      <th>0</th>\n",
       "      <td>OP</td>\n",
       "      <td>2011-01-01T00:00:00.000</td>\n",
       "      <td>ST&amp;SAN PABLO AV</td>\n",
       "      <td>1</td>\n",
       "      <td>06X</td>\n",
       "      <td>1</td>\n",
       "      <td>PDOA</td>\n",
       "      <td>POSSIBLE DEAD PERSON</td>\n",
       "      <td>LOP110101000001</td>\n",
       "      <td>2011-01-01T00:28:17.000</td>\n",
       "      <td>28</td>\n",
       "    </tr>\n",
       "    <tr>\n",
       "      <th>1</th>\n",
       "      <td>OP</td>\n",
       "      <td>2011-01-01T00:01:11.000</td>\n",
       "      <td>ST&amp;HANNAH ST</td>\n",
       "      <td>1</td>\n",
       "      <td>07X</td>\n",
       "      <td>1</td>\n",
       "      <td>415GS</td>\n",
       "      <td>415 GUNSHOTS</td>\n",
       "      <td>LOP110101000002</td>\n",
       "      <td>2011-01-01T01:12:56.000</td>\n",
       "      <td>71</td>\n",
       "    </tr>\n",
       "    <tr>\n",
       "      <th>2</th>\n",
       "      <td>OP</td>\n",
       "      <td>2011-01-01T00:01:25.000</td>\n",
       "      <td>ST&amp;MARKET ST</td>\n",
       "      <td>1</td>\n",
       "      <td>10Y</td>\n",
       "      <td>2</td>\n",
       "      <td>415GS</td>\n",
       "      <td>415 GUNSHOTS</td>\n",
       "      <td>LOP110101000003</td>\n",
       "      <td>2011-01-01T00:07:20.000</td>\n",
       "      <td>5</td>\n",
       "    </tr>\n",
       "    <tr>\n",
       "      <th>3</th>\n",
       "      <td>OP</td>\n",
       "      <td>2011-01-01T00:01:35.000</td>\n",
       "      <td>PRENTISS ST</td>\n",
       "      <td>2</td>\n",
       "      <td>21Y</td>\n",
       "      <td>2</td>\n",
       "      <td>415GS</td>\n",
       "      <td>415 GUNSHOTS</td>\n",
       "      <td>LOP110101000005</td>\n",
       "      <td>2011-01-01T00:02:28.000</td>\n",
       "      <td>0</td>\n",
       "    </tr>\n",
       "    <tr>\n",
       "      <th>4</th>\n",
       "      <td>OP</td>\n",
       "      <td>2011-01-01T00:02:10.000</td>\n",
       "      <td>AV&amp;FOOTHILL BLVD</td>\n",
       "      <td>2</td>\n",
       "      <td>20X</td>\n",
       "      <td>1</td>\n",
       "      <td>415GS</td>\n",
       "      <td>415 GUNSHOTS</td>\n",
       "      <td>LOP110101000004</td>\n",
       "      <td>2011-01-01T00:50:04.000</td>\n",
       "      <td>47</td>\n",
       "    </tr>\n",
       "    <tr>\n",
       "      <th>...</th>\n",
       "      <td>...</td>\n",
       "      <td>...</td>\n",
       "      <td>...</td>\n",
       "      <td>...</td>\n",
       "      <td>...</td>\n",
       "      <td>...</td>\n",
       "      <td>...</td>\n",
       "      <td>...</td>\n",
       "      <td>...</td>\n",
       "      <td>...</td>\n",
       "      <td>...</td>\n",
       "    </tr>\n",
       "    <tr>\n",
       "      <th>180010</th>\n",
       "      <td>OP</td>\n",
       "      <td>2011-12-31T23:51:14.000</td>\n",
       "      <td>WB REDWOOD RD&amp;REDWOOD RD</td>\n",
       "      <td>1</td>\n",
       "      <td>22Y</td>\n",
       "      <td>2</td>\n",
       "      <td>SECCK</td>\n",
       "      <td>SECURITY CHECK</td>\n",
       "      <td>LOP111231001011</td>\n",
       "      <td>2012-01-01T00:44:22.000</td>\n",
       "      <td>53</td>\n",
       "    </tr>\n",
       "    <tr>\n",
       "      <th>180011</th>\n",
       "      <td>OP</td>\n",
       "      <td>2011-12-31T23:52:15.000</td>\n",
       "      <td>WB 26TH AV</td>\n",
       "      <td>2</td>\n",
       "      <td>21X</td>\n",
       "      <td>2</td>\n",
       "      <td>415GS</td>\n",
       "      <td>415 GUNSHOTS</td>\n",
       "      <td>LOP111231001014</td>\n",
       "      <td>2012-01-01T01:40:10.000</td>\n",
       "      <td>107</td>\n",
       "    </tr>\n",
       "    <tr>\n",
       "      <th>180012</th>\n",
       "      <td>OP</td>\n",
       "      <td>2011-12-31T23:53:59.000</td>\n",
       "      <td>WERNER 40TH STREET WY</td>\n",
       "      <td>1</td>\n",
       "      <td>09X</td>\n",
       "      <td>1</td>\n",
       "      <td>PDOA</td>\n",
       "      <td>POSSIBLE DEAD PERSON</td>\n",
       "      <td>LOP111231001015</td>\n",
       "      <td>2012-01-01T02:30:22.000</td>\n",
       "      <td>156</td>\n",
       "    </tr>\n",
       "    <tr>\n",
       "      <th>180013</th>\n",
       "      <td>OP</td>\n",
       "      <td>2011-12-31T23:55:52.000</td>\n",
       "      <td>WOOD AV&amp;KEMPTON AV</td>\n",
       "      <td>1</td>\n",
       "      <td>08X</td>\n",
       "      <td>1</td>\n",
       "      <td>918</td>\n",
       "      <td>PERSON SCREAMING</td>\n",
       "      <td>LOP111231001016</td>\n",
       "      <td>2012-01-01T00:25:03.000</td>\n",
       "      <td>29</td>\n",
       "    </tr>\n",
       "    <tr>\n",
       "      <th>180014</th>\n",
       "      <td>OP</td>\n",
       "      <td>2011-12-31T23:58:08.000</td>\n",
       "      <td>WOODSON B ST</td>\n",
       "      <td>2</td>\n",
       "      <td>33X</td>\n",
       "      <td>2</td>\n",
       "      <td>415GS</td>\n",
       "      <td>415 GUNSHOTS</td>\n",
       "      <td>LOP111231001017</td>\n",
       "      <td>2012-01-01T02:59:48.000</td>\n",
       "      <td>181</td>\n",
       "    </tr>\n",
       "  </tbody>\n",
       "</table>\n",
       "<p>180009 rows × 11 columns</p>\n",
       "</div>"
      ],
      "text/plain": [
       "       Agency              Create Time                  Location Area Id Beat  \\\n",
       "0          OP  2011-01-01T00:00:00.000           ST&SAN PABLO AV       1  06X   \n",
       "1          OP  2011-01-01T00:01:11.000             ST&HANNAH ST        1  07X   \n",
       "2          OP  2011-01-01T00:01:25.000             ST&MARKET ST        1  10Y   \n",
       "3          OP  2011-01-01T00:01:35.000              PRENTISS ST        2  21Y   \n",
       "4          OP  2011-01-01T00:02:10.000         AV&FOOTHILL BLVD        2  20X   \n",
       "...       ...                      ...                       ...     ...  ...   \n",
       "180010     OP  2011-12-31T23:51:14.000  WB REDWOOD RD&REDWOOD RD       1  22Y   \n",
       "180011     OP  2011-12-31T23:52:15.000               WB 26TH AV        2  21X   \n",
       "180012     OP  2011-12-31T23:53:59.000     WERNER 40TH STREET WY       1  09X   \n",
       "180013     OP  2011-12-31T23:55:52.000       WOOD AV&KEMPTON AV        1  08X   \n",
       "180014     OP  2011-12-31T23:58:08.000             WOODSON B ST        2  33X   \n",
       "\n",
       "       Priority Incident Type Id Incident Type Description     Event Number  \\\n",
       "0             1             PDOA      POSSIBLE DEAD PERSON  LOP110101000001   \n",
       "1             1            415GS              415 GUNSHOTS  LOP110101000002   \n",
       "2             2            415GS              415 GUNSHOTS  LOP110101000003   \n",
       "3             2            415GS              415 GUNSHOTS  LOP110101000005   \n",
       "4             1            415GS              415 GUNSHOTS  LOP110101000004   \n",
       "...         ...              ...                       ...              ...   \n",
       "180010        2            SECCK            SECURITY CHECK  LOP111231001011   \n",
       "180011        2            415GS              415 GUNSHOTS  LOP111231001014   \n",
       "180012        1             PDOA      POSSIBLE DEAD PERSON  LOP111231001015   \n",
       "180013        1              918          PERSON SCREAMING  LOP111231001016   \n",
       "180014        2            415GS              415 GUNSHOTS  LOP111231001017   \n",
       "\n",
       "                    Closed Time  duration  \n",
       "0       2011-01-01T00:28:17.000        28  \n",
       "1       2011-01-01T01:12:56.000        71  \n",
       "2       2011-01-01T00:07:20.000         5  \n",
       "3       2011-01-01T00:02:28.000         0  \n",
       "4       2011-01-01T00:50:04.000        47  \n",
       "...                         ...       ...  \n",
       "180010  2012-01-01T00:44:22.000        53  \n",
       "180011  2012-01-01T01:40:10.000       107  \n",
       "180012  2012-01-01T02:30:22.000       156  \n",
       "180013  2012-01-01T00:25:03.000        29  \n",
       "180014  2012-01-01T02:59:48.000       181  \n",
       "\n",
       "[180009 rows x 11 columns]"
      ]
     },
     "execution_count": 14,
     "metadata": {},
     "output_type": "execute_result"
    }
   ],
   "source": [
    "crime.generate_new_col('Create Time','Closed Time',crime_process.time_interval)\n",
    "crime.data[0]"
   ]
  },
  {
   "cell_type": "markdown",
   "metadata": {},
   "source": [
    "五数概括："
   ]
  },
  {
   "cell_type": "code",
   "execution_count": 15,
   "metadata": {
    "scrolled": true
   },
   "outputs": [
    {
     "name": "stdout",
     "output_type": "stream",
     "text": [
      "Year 2011\n",
      "Min: 0,Q1: 20.0,Q2: 56.0,Q3: 128.0,Max: 1439\n",
      "Year 2012\n",
      "Min: 0,Q1: 23.0,Q2: 64.0,Q3: 148.0,Max: 1439\n",
      "Year 2013\n",
      "Min: 0,Q1: 25.0,Q2: 72.0,Q3: 169.0,Max: 1439\n",
      "Year 2014\n",
      "Min: 0,Q1: 24.0,Q2: 71.0,Q3: 172.0,Max: 1439\n",
      "Year 2015\n",
      "Min: 0,Q1: 21.0,Q2: 66.0,Q3: 161.0,Max: 1439\n",
      "Year 2016\n",
      "Min: 0,Q1: 22.0,Q2: 70.0,Q3: 173.0,Max: 1439\n"
     ]
    }
   ],
   "source": [
    "crime.select_col('duration')\n",
    "crime.five_number()"
   ]
  },
  {
   "cell_type": "markdown",
   "metadata": {},
   "source": [
    "盒图："
   ]
  },
  {
   "cell_type": "code",
   "execution_count": 16,
   "metadata": {},
   "outputs": [
    {
     "data": {
      "image/png": "[encoded data removed]",
      "text/plain": [
       "<Figure size 1152x288 with 1 Axes>"
      ]
     },
     "metadata": {
      "needs_background": "light"
     },
     "output_type": "display_data"
    },
    {
     "name": "stdout",
     "output_type": "stream",
     "text": [
      "290.0\n"
     ]
    }
   ],
   "source": [
    "# 2011年\n",
    "crime.box(0,16,4,'time interval(min)')"
   ]
  },
  {
   "cell_type": "code",
   "execution_count": 17,
   "metadata": {},
   "outputs": [
    {
     "data": {
      "image/png": "[encoded data removed]",
      "text/plain": [
       "<Figure size 1152x288 with 1 Axes>"
      ]
     },
     "metadata": {
      "needs_background": "light"
     },
     "output_type": "display_data"
    },
    {
     "name": "stdout",
     "output_type": "stream",
     "text": [
      "335.5\n"
     ]
    }
   ],
   "source": [
    "# 2012年\n",
    "crime.box(1,16,4,'time interval(min)')"
   ]
  },
  {
   "cell_type": "code",
   "execution_count": 18,
   "metadata": {},
   "outputs": [
    {
     "data": {
      "image/png": "[encoded data removed]",
      "text/plain": [
       "<Figure size 1152x288 with 1 Axes>"
      ]
     },
     "metadata": {
      "needs_background": "light"
     },
     "output_type": "display_data"
    },
    {
     "name": "stdout",
     "output_type": "stream",
     "text": [
      "385.0\n"
     ]
    }
   ],
   "source": [
    "# 2013年\n",
    "crime.box(2,16,4,'time interval(min)')"
   ]
  },
  {
   "cell_type": "code",
   "execution_count": 19,
   "metadata": {},
   "outputs": [
    {
     "data": {
      "image/png": "[encoded data removed]",
      "text/plain": [
       "<Figure size 1152x288 with 1 Axes>"
      ]
     },
     "metadata": {
      "needs_background": "light"
     },
     "output_type": "display_data"
    },
    {
     "name": "stdout",
     "output_type": "stream",
     "text": [
      "394.0\n"
     ]
    }
   ],
   "source": [
    "# 2014年\n",
    "crime.box(3,16,4,'time interval(min)')"
   ]
  },
  {
   "cell_type": "code",
   "execution_count": 20,
   "metadata": {},
   "outputs": [
    {
     "data": {
      "image/png": "[encoded data removed]",
      "text/plain": [
       "<Figure size 1152x288 with 1 Axes>"
      ]
     },
     "metadata": {
      "needs_background": "light"
     },
     "output_type": "display_data"
    },
    {
     "name": "stdout",
     "output_type": "stream",
     "text": [
      "371.0\n"
     ]
    }
   ],
   "source": [
    "# 2015年\n",
    "crime.box(4,16,4,'time interval(min)')"
   ]
  },
  {
   "cell_type": "code",
   "execution_count": 22,
   "metadata": {},
   "outputs": [
    {
     "data": {
      "image/png": "[encoded data removed]",
      "text/plain": [
       "<Figure size 1152x288 with 1 Axes>"
      ]
     },
     "metadata": {
      "needs_background": "light"
     },
     "output_type": "display_data"
    },
    {
     "name": "stdout",
     "output_type": "stream",
     "text": [
      "399.5\n"
     ]
    }
   ],
   "source": [
    "# 2016年\n",
    "crime.box(5,16,4,'time interval(min)')"
   ]
  },
  {
   "cell_type": "markdown",
   "metadata": {},
   "source": [
    "直方图："
   ]
  },
  {
   "cell_type": "code",
   "execution_count": 23,
   "metadata": {},
   "outputs": [
    {
     "data": {
      "image/png": "[encoded data removed]",
      "text/plain": [
       "<Figure size 1152x288 with 1 Axes>"
      ]
     },
     "metadata": {
      "needs_background": "light"
     },
     "output_type": "display_data"
    }
   ],
   "source": [
    "# 2011年\n",
    "crime.normal_hist(0,16,4,'time interval(min)','quantity')"
   ]
  },
  {
   "cell_type": "code",
   "execution_count": 24,
   "metadata": {},
   "outputs": [
    {
     "data": {
      "image/png": "[encoded data removed]",
      "text/plain": [
       "<Figure size 1152x288 with 1 Axes>"
      ]
     },
     "metadata": {
      "needs_background": "light"
     },
     "output_type": "display_data"
    }
   ],
   "source": [
    "# 2012年\n",
    "crime.normal_hist(1,16,4,'time interval(min)','quantity')"
   ]
  },
  {
   "cell_type": "code",
   "execution_count": 25,
   "metadata": {},
   "outputs": [
    {
     "data": {
      "image/png": "[encoded data removed]",
      "text/plain": [
       "<Figure size 1152x288 with 1 Axes>"
      ]
     },
     "metadata": {
      "needs_background": "light"
     },
     "output_type": "display_data"
    }
   ],
   "source": [
    "# 2013年\n",
    "crime.normal_hist(2,16,4,'time interval(min)','quantity')"
   ]
  },
  {
   "cell_type": "code",
   "execution_count": 26,
   "metadata": {},
   "outputs": [
    {
     "data": {
      "image/png": "[encoded data removed]",
      "text/plain": [
       "<Figure size 1152x288 with 1 Axes>"
      ]
     },
     "metadata": {
      "needs_background": "light"
     },
     "output_type": "display_data"
    }
   ],
   "source": [
    "# 2014年\n",
    "crime.normal_hist(3,16,4,'time interval(min)','quantity')"
   ]
  },
  {
   "cell_type": "code",
   "execution_count": 27,
   "metadata": {},
   "outputs": [
    {
     "data": {
      "image/png": "[encoded data removed]",
      "text/plain": [
       "<Figure size 1152x288 with 1 Axes>"
      ]
     },
     "metadata": {
      "needs_background": "light"
     },
     "output_type": "display_data"
    }
   ],
   "source": [
    "# 2015年\n",
    "crime.normal_hist(4,16,4,'time interval(min)','quantity')"
   ]
  },
  {
   "cell_type": "code",
   "execution_count": 28,
   "metadata": {},
   "outputs": [
    {
     "data": {
      "image/png": "[encoded data removed]",
      "text/plain": [
       "<Figure size 1152x288 with 1 Axes>"
      ]
     },
     "metadata": {
      "needs_background": "light"
     },
     "output_type": "display_data"
    }
   ],
   "source": [
    "# 2016年\n",
    "crime.normal_hist(5,16,4,'time interval(min)','quantity')"
   ]
  },
  {
   "cell_type": "code",
   "execution_count": null,
   "metadata": {},
   "outputs": [],
   "source": []
  }
 ],
 "metadata": {
  "kernelspec": {
   "display_name": "Python 3",
   "language": "python",
   "name": "python3"
  },
  "language_info": {
   "codemirror_mode": {
    "name": "ipython",
    "version": 3
   },
   "file_extension": ".py",
   "mimetype": "text/x-python",
   "name": "python",
   "nbconvert_exporter": "python",
   "pygments_lexer": "ipython3",
   "version": "3.6.9"
  }
 },
 "nbformat": 4,
 "nbformat_minor": 4
}
